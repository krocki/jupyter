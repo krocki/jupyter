{
 "cells": [
  {
   "cell_type": "code",
   "execution_count": 1,
   "id": "871f6a81-7ff7-4611-9772-97b984128ae9",
   "metadata": {},
   "outputs": [],
   "source": [
    "import time\n",
    "from cffi import FFI\n",
    "from array2gif import write_gif\n",
    "import numpy as np\n",
    "import random\n",
    "\n",
    "# options\n",
    "# this program requires ~ 5000 cycles\n",
    "cycles      = 5000 # cpu cycles\n",
    "binary      = 'sierp0.bin' # program\n",
    "outputfile  = 'sierp0.gif'\n",
    "framebuffer = 0x200 # framebuffer offset\n",
    "pc          = 0x600 # program counter on reset\n",
    "debug       = 0 # show register state during execution\n",
    "\n",
    "# prog = [\n",
    "#  0xa2,0x00,0xa9,0x00,0x85,0x00,0xa9,0x02,\n",
    "#  0x85,0x01,0x20,0x1f,0x06,0x81,0x00,0xe6,\n",
    "#  0x00,0xf0,0x03,0x4c,0x0a,0x06,0xe6,0x01,\n",
    "#  0xa4,0x01,0xc0,0x06,0xd0,0xec,0x60,0xa5,\n",
    "#  0x00,0x29,0x1f,0x85,0x02,0xa5,0x00,0x4a,\n",
    "#  0x4a,0x4a,0x4a,0x4a,0x85,0x03,0xa5,0x01,\n",
    "#  0x38,0xe9,0x02,0x0a,0x0a,0x0a,0x05,0x03,\n",
    "#  0x25,0x02,0xf0,0x03,0xa9,0x02,0x60,0xa9,\n",
    "#  0x0d,0x60]\n",
    "\n",
    "with open(binary, \"rb\") as f:\n",
    "    prog = f.read()\n",
    "    \n",
    "# init 6502\n",
    "def init(ffi, PC, SP):\n",
    "    _6502 = ffi.dlopen(\"./6502.so\");\n",
    "    _6502.reset(PC,SP); _6502.show_debug=debug\n",
    "    return _6502"
   ]
  },
  {
   "cell_type": "code",
   "execution_count": 2,
   "id": "90a8e461-df39-41d0-b6db-149d3efa9908",
   "metadata": {},
   "outputs": [],
   "source": [
    "def execute(prog):\n",
    "\n",
    "    ffi = FFI()\n",
    "\n",
    "    #C header stuff\n",
    "    ffi.cdef(\"\"\"\n",
    "       typedef uint8_t u8; typedef uint16_t u16; typedef uint32_t u32; typedef uint64_t u64;\n",
    "       void reset(u16,u8); u8 show_debug;\n",
    "       void cpu_step(u32);\n",
    "       extern u8 mem[0x10000];\n",
    "       extern u8 show_debug;\n",
    "    \"\"\")\n",
    "\n",
    "    #initial program counter and stack pointer\n",
    "    PC=pc; SP=0xff; FB=framebuffer\n",
    "\n",
    "    C = init(ffi, PC, SP);\n",
    "    n_frames = cycles//40\n",
    "\n",
    "    for i in range(len(prog)): C.mem[PC+i] = prog[i]\n",
    "\n",
    "    if outputfile:\n",
    "        imgs = []\n",
    "        for jj in range(n_frames):\n",
    "            C.cpu_step(cycles // n_frames)\n",
    "            _scr = np.zeros((2048,1), dtype='uint8')\n",
    "            for i in range(512): _scr[i] = C.mem[i] # zero pg,stack\n",
    "            for i in range(512): _scr[i+512] = C.mem[PC+i] # program\n",
    "            for i in range(1024): _scr[i+1024] = 255 * C.mem[FB+i]  # 'screen'screen\n",
    "            frame = _scr.reshape(1,64,32);\n",
    "            zp = frame[:,0:32,:]; prg = frame[:,32:64,:]\n",
    "            frame = np.zeros((1,32,64))\n",
    "            frame[:,:,0:32] = zp; frame[:,:,32:64] = prg\n",
    "            ff = frame.repeat(3, axis=0)\n",
    "            imgs.append(ff);\n",
    "        return imgs\n",
    "\n",
    "    else:\n",
    "        C.cpu_step(cycles) # just run for n cycles\n",
    "\n",
    "        # todo, this is temporary\n",
    "        _scr = np.zeros((1024,1), dtype='uint8')\n",
    "        for i in range(1024): _scr[i] = C.mem[FB+i]\n",
    "        \n",
    "        return _scr.reshape(1,32,32)"
   ]
  },
  {
   "cell_type": "code",
   "execution_count": 3,
   "id": "8a71a3c1-fab5-4cc3-8111-6a73479fc46c",
   "metadata": {},
   "outputs": [
    {
     "name": "stderr",
     "output_type": "stream",
     "text": [
      "/home/krocki/.local/lib/python3.8/site-packages/cffi/cparser.py:163: UserWarning: Global variable 'show_debug' in cdef(): for consistency with C it should have a storage class specifier (usually 'extern')\n",
      "  warnings.warn(\"Global variable '%s' in cdef(): for consistency \"\n"
     ]
    },
    {
     "data": {
      "text/html": [
       "<img src=\"sierp0.gif\" style=\"width:500px;height:300px;\">"
      ],
      "text/plain": [
       "<IPython.core.display.HTML object>"
      ]
     },
     "execution_count": 3,
     "metadata": {},
     "output_type": "execute_result"
    }
   ],
   "source": [
    "frames = execute(prog)\n",
    "write_gif(frames, outputfile, fps=25)\n",
    "\n",
    "from IPython.display import HTML\n",
    "HTML('<img src=\"sierp0.gif\" style=\"width:500px;height:300px;\">')"
   ]
  },
  {
   "cell_type": "code",
   "execution_count": null,
   "id": "1f287abf-41a7-4ada-8a48-2e0c91d6c3c6",
   "metadata": {},
   "outputs": [],
   "source": []
  }
 ],
 "metadata": {
  "kernelspec": {
   "display_name": "Python 3 (ipykernel)",
   "language": "python",
   "name": "python3"
  },
  "language_info": {
   "codemirror_mode": {
    "name": "ipython",
    "version": 3
   },
   "file_extension": ".py",
   "mimetype": "text/x-python",
   "name": "python",
   "nbconvert_exporter": "python",
   "pygments_lexer": "ipython3",
   "version": "3.8.10"
  }
 },
 "nbformat": 4,
 "nbformat_minor": 5
}
