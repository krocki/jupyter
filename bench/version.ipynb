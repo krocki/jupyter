{
 "cells": [
  {
   "cell_type": "code",
   "execution_count": 2,
   "id": "a09c65af-7390-4fff-8ced-e5ff249c89cb",
   "metadata": {},
   "outputs": [
    {
     "name": "stdout",
     "output_type": "stream",
     "text": [
      "blackwell,  07/01/2022 14:18:45\n"
     ]
    },
    {
     "ename": "OSError",
     "evalue": "CUDA driver library not found",
     "output_type": "error",
     "traceback": [
      "\u001b[0;31m---------------------------------------------------------------------------\u001b[0m",
      "\u001b[0;31mOSError\u001b[0m                                   Traceback (most recent call last)",
      "\u001b[0;32m/tmp/ipykernel_1689837/4031651108.py\u001b[0m in \u001b[0;36m<module>\u001b[0;34m\u001b[0m\n\u001b[1;32m     11\u001b[0m \u001b[0;32mimport\u001b[0m \u001b[0mpycuda\u001b[0m\u001b[0;34m.\u001b[0m\u001b[0mdriver\u001b[0m \u001b[0;32mas\u001b[0m \u001b[0mdrv\u001b[0m\u001b[0;34m\u001b[0m\u001b[0;34m\u001b[0m\u001b[0m\n\u001b[1;32m     12\u001b[0m \u001b[0;32mimport\u001b[0m \u001b[0mpycuda\u001b[0m\u001b[0;34m.\u001b[0m\u001b[0mgpuarray\u001b[0m \u001b[0;32mas\u001b[0m \u001b[0mgpuarray\u001b[0m\u001b[0;34m\u001b[0m\u001b[0;34m\u001b[0m\u001b[0m\n\u001b[0;32m---> 13\u001b[0;31m \u001b[0;32mimport\u001b[0m \u001b[0mskcuda\u001b[0m\u001b[0;34m.\u001b[0m\u001b[0mcublas\u001b[0m \u001b[0;32mas\u001b[0m \u001b[0mcublas\u001b[0m\u001b[0;34m\u001b[0m\u001b[0;34m\u001b[0m\u001b[0m\n\u001b[0m\u001b[1;32m     14\u001b[0m \u001b[0;32mimport\u001b[0m \u001b[0mskcuda\u001b[0m\u001b[0;34m.\u001b[0m\u001b[0mcusolver\u001b[0m \u001b[0;32mas\u001b[0m \u001b[0mcusolver\u001b[0m\u001b[0;34m\u001b[0m\u001b[0;34m\u001b[0m\u001b[0m\n\u001b[1;32m     15\u001b[0m \u001b[0;34m\u001b[0m\u001b[0m\n",
      "\u001b[0;32m~/git/scikit-cuda/skcuda/cublas.py\u001b[0m in \u001b[0;36m<module>\u001b[0;34m\u001b[0m\n\u001b[1;32m     20\u001b[0m \u001b[0;32mfrom\u001b[0m \u001b[0mstring\u001b[0m \u001b[0;32mimport\u001b[0m \u001b[0mTemplate\u001b[0m\u001b[0;34m\u001b[0m\u001b[0;34m\u001b[0m\u001b[0m\n\u001b[1;32m     21\u001b[0m \u001b[0;34m\u001b[0m\u001b[0m\n\u001b[0;32m---> 22\u001b[0;31m \u001b[0;32mfrom\u001b[0m \u001b[0;34m.\u001b[0m \u001b[0;32mimport\u001b[0m \u001b[0mcuda\u001b[0m\u001b[0;34m\u001b[0m\u001b[0;34m\u001b[0m\u001b[0m\n\u001b[0m\u001b[1;32m     23\u001b[0m \u001b[0;32mfrom\u001b[0m \u001b[0;34m.\u001b[0m \u001b[0;32mimport\u001b[0m \u001b[0mutils\u001b[0m\u001b[0;34m\u001b[0m\u001b[0;34m\u001b[0m\u001b[0m\n\u001b[1;32m     24\u001b[0m \u001b[0;34m\u001b[0m\u001b[0m\n",
      "\u001b[0;32m~/git/scikit-cuda/skcuda/cuda.py\u001b[0m in \u001b[0;36m<module>\u001b[0;34m\u001b[0m\n\u001b[1;32m      8\u001b[0m \u001b[0;34m\u001b[0m\u001b[0m\n\u001b[1;32m      9\u001b[0m \u001b[0;32mfrom\u001b[0m \u001b[0;34m.\u001b[0m\u001b[0mcudart\u001b[0m \u001b[0;32mimport\u001b[0m \u001b[0;34m*\u001b[0m\u001b[0;34m\u001b[0m\u001b[0;34m\u001b[0m\u001b[0m\n\u001b[0;32m---> 10\u001b[0;31m \u001b[0;32mfrom\u001b[0m \u001b[0;34m.\u001b[0m\u001b[0mcudadrv\u001b[0m \u001b[0;32mimport\u001b[0m \u001b[0;34m*\u001b[0m\u001b[0;34m\u001b[0m\u001b[0;34m\u001b[0m\u001b[0m\n\u001b[0m",
      "\u001b[0;32m~/git/scikit-cuda/skcuda/cudadrv.py\u001b[0m in \u001b[0;36m<module>\u001b[0;34m\u001b[0m\n\u001b[1;32m     30\u001b[0m         \u001b[0;32mbreak\u001b[0m\u001b[0;34m\u001b[0m\u001b[0;34m\u001b[0m\u001b[0m\n\u001b[1;32m     31\u001b[0m \u001b[0;32mif\u001b[0m \u001b[0m_libcuda\u001b[0m \u001b[0;34m==\u001b[0m \u001b[0;32mNone\u001b[0m\u001b[0;34m:\u001b[0m\u001b[0;34m\u001b[0m\u001b[0;34m\u001b[0m\u001b[0m\n\u001b[0;32m---> 32\u001b[0;31m     \u001b[0;32mraise\u001b[0m \u001b[0mOSError\u001b[0m\u001b[0;34m(\u001b[0m\u001b[0;34m'CUDA driver library not found'\u001b[0m\u001b[0;34m)\u001b[0m\u001b[0;34m\u001b[0m\u001b[0;34m\u001b[0m\u001b[0m\n\u001b[0m\u001b[1;32m     33\u001b[0m \u001b[0;34m\u001b[0m\u001b[0m\n\u001b[1;32m     34\u001b[0m \u001b[0;31m# Exceptions corresponding to various CUDA driver errors:\u001b[0m\u001b[0;34m\u001b[0m\u001b[0;34m\u001b[0m\u001b[0;34m\u001b[0m\u001b[0m\n",
      "\u001b[0;31mOSError\u001b[0m: CUDA driver library not found"
     ]
    }
   ],
   "source": [
    "import cuda_util\n",
    "import os\n",
    "from datetime import datetime\n",
    "\n",
    "host = os.uname()[1]\n",
    "dt_string = datetime.now().strftime(\"%d/%m/%Y %H:%M:%S\")\n",
    "print(f\"{host}, \", dt_string)\n",
    "\n",
    "import numpy as np\n",
    "import pycuda.autoinit\n",
    "import pycuda.driver as drv\n",
    "import pycuda.gpuarray as gpuarray\n",
    "import skcuda.cublas as cublas\n",
    "import skcuda.cusolver as cusolver\n",
    "\n",
    "\"\"\"\n",
    "import ctypes\n",
    "def cusolverGetVersion(lib):\n",
    "    major, minor, patch = ctypes.c_int(), ctypes.c_int(), ctypes.c_int()\n",
    "    lib._libcusolver.cusolverGetProperty(0, ctypes.byref(major))\n",
    "    lib._libcusolver.cusolverGetProperty(1, ctypes.byref(minor))\n",
    "    lib._libcusolver.cusolverGetProperty(2, ctypes.byref(patch))\n",
    "    return f'{major.value}.{minor.value}.{patch.value}'\n",
    "\"\"\"\n",
    "\n",
    "import ctypes\n",
    "def ver(handle, lib):\n",
    "    ver = ctypes.c_int()\n",
    "    lib._libcublas.cublasGetVersion_v2(handle,  ctypes.byref(ver))\n",
    "    print(ver.value)\n",
    "    return ver.value\n",
    "\n",
    "print()\n",
    "print(f'{pycuda.VERSION_TEXT=}')\n",
    "print(f'{drv.get_version()=}')\n",
    "print(f'{drv.get_driver_version()=}')\n",
    "print()\n",
    "\n",
    "seed = 1234\n",
    "np.random.seed(seed)\n",
    "\n",
    "handle = cublas.cublasCreate()\n",
    "print(f'cublas version: {cublas.cublasGetVersion(handle)}')\n",
    "print(ver(handle, cublas))\n",
    "cublas.cublasDestroy(handle)\n",
    "\n",
    "handle = cusolver.cusolverDnCreate()\n",
    "print(f'cusolver version: {cusolver.cusolverGetVersion()}')\n",
    "status = cusolver.cusolverDnDestroy(handle)"
   ]
  },
  {
   "cell_type": "code",
   "execution_count": 10,
   "id": "73d6f1a5-4e90-4648-99a2-ca45608becf7",
   "metadata": {},
   "outputs": [
    {
     "name": "stdout",
     "output_type": "stream",
     "text": [
      "<CDLL '/home/krocki/nv/cuBLAS/build/src/libcublas.so.11.9.1.0', handle 331da20 at 0x7fcb8d1b8d00>\n"
     ]
    }
   ],
   "source": [
    "libname = '/home/krocki/nv/cuBLAS/build/src/' + 'libcublas.so.11.9.1.0'\n",
    "lib = ctypes.cdll.LoadLibrary(libname)\n",
    "print(lib)"
   ]
  },
  {
   "cell_type": "code",
   "execution_count": 11,
   "id": "7edb3cf1-96fa-41ba-8f84-1a41f181b5fc",
   "metadata": {},
   "outputs": [
    {
     "name": "stdout",
     "output_type": "stream",
     "text": [
      "11704\n"
     ]
    },
    {
     "data": {
      "text/plain": [
       "0"
      ]
     },
     "execution_count": 11,
     "metadata": {},
     "output_type": "execute_result"
    }
   ],
   "source": [
    "class _types:\n",
    "    \"\"\"Some alias types.\"\"\"\n",
    "    handle = ctypes.c_void_p\n",
    "    stream = ctypes.c_void_p\n",
    "    \n",
    "version = ctypes.c_int()\n",
    "handle = _types.handle()\n",
    "lib.cublasCreate_v2(ctypes.byref(handle))\n",
    "status = lib.cublasGetVersion_v2(handle, ctypes.byref(version))\n",
    "print(version.value)\n",
    "lib.cublasDestroy_v2(handle)"
   ]
  },
  {
   "cell_type": "code",
   "execution_count": null,
   "id": "81b3b8d9-9274-4d69-b5e3-7b3f30970ee2",
   "metadata": {},
   "outputs": [],
   "source": []
  }
 ],
 "metadata": {
  "kernelspec": {
   "display_name": "Python 3 (ipykernel)",
   "language": "python",
   "name": "python3"
  },
  "language_info": {
   "codemirror_mode": {
    "name": "ipython",
    "version": 3
   },
   "file_extension": ".py",
   "mimetype": "text/x-python",
   "name": "python",
   "nbconvert_exporter": "python",
   "pygments_lexer": "ipython3",
   "version": "3.8.10"
  }
 },
 "nbformat": 4,
 "nbformat_minor": 5
}
