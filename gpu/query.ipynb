{
 "cells": [
  {
   "cell_type": "code",
   "execution_count": 1,
   "id": "082fb909-0b07-4dad-9c2d-20aa24ef84cf",
   "metadata": {},
   "outputs": [
    {
     "name": "stdout",
     "output_type": "stream",
     "text": [
      "pycuda.VERSION_TEXT='2021.1'\n",
      "drv.get_version()=(11, 5, 0)\n",
      "drv.get_driver_version()=11050\n"
     ]
    }
   ],
   "source": [
    "import pycuda\n",
    "import pycuda.driver as drv\n",
    "\n",
    "print(f'{pycuda.VERSION_TEXT=}')\n",
    "print(f'{drv.get_version()=}')\n",
    "print(f'{drv.get_driver_version()=}')\n",
    "\n",
    "drv.init()"
   ]
  },
  {
   "cell_type": "code",
   "execution_count": 2,
   "id": "01eccd1e-6dd3-46b9-8035-dd23e73889e8",
   "metadata": {},
   "outputs": [
    {
     "name": "stdout",
     "output_type": "stream",
     "text": [
      "5 device(s) found.\n",
      "Device #0: NVIDIA A100-SXM-80GB\n",
      "  Arch: 8.0, Mem: 81251 MB, 2039 GBps\n",
      "  108 SMs, 6912 cores, 40.0 MB L2, 1.41 GHz\n",
      "     TF/s:      9.75 FP64     19.49 FP32     77.97 FP16\n",
      "  TC TF/s:     19.49 FP64    155.93 FP32    311.87 FP16\n",
      "\n",
      "Device #1: NVIDIA A100-SXM-80GB\n",
      "  Arch: 8.0, Mem: 81251 MB, 2039 GBps\n",
      "  108 SMs, 6912 cores, 40.0 MB L2, 1.41 GHz\n",
      "     TF/s:      9.75 FP64     19.49 FP32     77.97 FP16\n",
      "  TC TF/s:     19.49 FP64    155.93 FP32    311.87 FP16\n",
      "\n",
      "Device #2: NVIDIA A100-SXM-80GB\n",
      "  Arch: 8.0, Mem: 81251 MB, 2039 GBps\n",
      "  108 SMs, 6912 cores, 40.0 MB L2, 1.41 GHz\n",
      "     TF/s:      9.75 FP64     19.49 FP32     77.97 FP16\n",
      "  TC TF/s:     19.49 FP64    155.93 FP32    311.87 FP16\n",
      "\n",
      "Device #3: NVIDIA A100-SXM-80GB\n",
      "  Arch: 8.0, Mem: 81251 MB, 2039 GBps\n",
      "  108 SMs, 6912 cores, 40.0 MB L2, 1.41 GHz\n",
      "     TF/s:      9.75 FP64     19.49 FP32     77.97 FP16\n",
      "  TC TF/s:     19.49 FP64    155.93 FP32    311.87 FP16\n",
      "\n",
      "Device #4: NVIDIA DGX Display\n",
      "  Arch: 7.5, Mem: 3911 MB, 160 GBps\n",
      "  14 SMs, 896 cores, 1.0 MB L2, 1.395 GHz\n",
      "     TF/s:      0.08 FP64      2.50 FP32     10.00 FP16\n",
      "  TC TF/s:      0.00 FP64      0.00 FP32     20.00 FP16\n",
      "\n"
     ]
    }
   ],
   "source": [
    "print(\"%d device(s) found.\" % drv.Device.count())\n",
    "\n",
    "# cuda cores per SM\n",
    "cores_per_sm = {\n",
    "    '-1' : -1,  # \"Graphics Device\"\n",
    "    '3.0': 192, # Kepler\n",
    "    '3.2': 192, # Kepler\n",
    "    '3.5': 192, # Kepler\n",
    "    '3.7': 192, # Kepler\n",
    "    '5.0': 128, # Maxwell\n",
    "    '5.2': 128, # Maxwell\n",
    "    '5.3': 128, # Maxwell\n",
    "    '6.0': 64,  # Pascal\n",
    "    '6.1': 128, # Pascal\n",
    "    '6.2': 128, # Pascal\n",
    "    '7.0': 64,  # Volta\n",
    "    '7.2': 64,  # Xavier\n",
    "    '7.5': 64,  # Turing\n",
    "    '8.0': 64,  # Ampere\n",
    "    '8.6': 128  # Ampere\n",
    "}\n",
    "\n",
    "# Max CUDA cores ops per cycle per core\n",
    "# FP64, FP32, FP16, INT8\n",
    "fp_ops = {\n",
    "    '7.0':  (1,    2, 8, 8),\n",
    "    '7.5':  (1/16, 2, 8, 8),\n",
    "    '8.0':  (1,    2, 8, 8),\n",
    "    '8.6':  (1,    2, 8, 8)\n",
    "}\n",
    "# Max Tensor cores ops per cycle per SM\n",
    "# FP64, FP32, FP16, INT8, INT4, INT1\n",
    "tc_ops = {\n",
    "    '7.0': (0,      0, 1024,    0,    0,     0),\n",
    "    '7.5': (0,      0, 1024, 2048, 4096, 16384),\n",
    "    '8.0': (128, 1024, 2048, 4096, 8192, 32768),\n",
    "    '8.6': (128, 1024, 2048, 4096, 8192, 32768)\n",
    "    # Ampere sparse (0, 2048, 4096, 8192, 16384, 0) ?\n",
    "}\n",
    "\n",
    "for ordinal in range(drv.Device.count()):\n",
    "    dev = drv.Device(ordinal)\n",
    "    attributes = dev.get_attributes()\n",
    "    sms = attributes[drv.device_attribute.MULTIPROCESSOR_COUNT]\n",
    "    mcr = attributes[drv.device_attribute.MEMORY_CLOCK_RATE]\n",
    "    bus = attributes[drv.device_attribute.GLOBAL_MEMORY_BUS_WIDTH]\n",
    "    l2s = attributes[drv.device_attribute.L2_CACHE_SIZE]\n",
    "    clk = attributes[drv.device_attribute.CLOCK_RATE]\n",
    "    cap = dev.compute_capability()\n",
    "    arch = f'{cap[0]}.{cap[1]}'\n",
    "    cores = cores_per_sm[arch] * sms\n",
    "    \n",
    "    print(\"Device #%d: %s\" % (ordinal, dev.name()))\n",
    "    print(f\"  Arch: {arch}\"\n",
    "          f\", Mem: {dev.total_memory()//(1<<20)} MB, {mcr*1000*bus*2*1e-9/8:.0f} GBps\")\n",
    "\n",
    "    print(f\"  {sms} SMs, {cores} cores, {l2s / (1<<20)} MB L2\"\n",
    "          f\", {clk * 1e-6} GHz\")\n",
    "    print(f\"     TF/s:\"\n",
    "          f\"    {fp_ops[arch][0] * clk * cores * 1e-9:6.2f} FP64\"\n",
    "          f\"    {fp_ops[arch][1] * clk * cores * 1e-9:6.2f} FP32\"\n",
    "          f\"    {fp_ops[arch][2] * clk * cores * 1e-9:6.2f} FP16\")\n",
    "    print(f\"  TC TF/s:\"\n",
    "          f\"    {tc_ops[arch][0] * clk * sms * 1e-9:6.2f} FP64\"\n",
    "          f\"    {tc_ops[arch][1] * clk * sms * 1e-9:6.2f} FP32\"\n",
    "          f\"    {tc_ops[arch][2] * clk * sms * 1e-9:6.2f} FP16\")\n",
    "    print()"
   ]
  },
  {
   "cell_type": "code",
   "execution_count": 3,
   "id": "9c43ac08-3c84-4c86-ad83-14fcacae618c",
   "metadata": {},
   "outputs": [
    {
     "name": "stdout",
     "output_type": "stream",
     "text": [
      "Utilization\n",
      "| ID | GPU | MEM |\n",
      "------------------\n",
      "|  0 |  0% |  0% |\n",
      "|  1 |  0% |  0% |\n",
      "|  2 |  0% |  0% |\n",
      "|  3 |  0% |  0% |\n",
      "|  4 |  0% |  0% |\n"
     ]
    }
   ],
   "source": [
    "# is there a better way to check this?\n",
    "import GPUtil\n",
    "print(\"Utilization\")\n",
    "GPUtil.showUtilization()"
   ]
  },
  {
   "cell_type": "code",
   "execution_count": 4,
   "id": "14b661a1-8d2a-4e2f-8490-6068e1b5ca29",
   "metadata": {},
   "outputs": [
    {
     "name": "stdout",
     "output_type": "stream",
     "text": [
      "Device 1 NVIDIA A100-SXM-80GB\n",
      "Total Mem: 83201216 kB, Free: 82776768 kB\n"
     ]
    }
   ],
   "source": [
    "# select device\n",
    "dev_id = 1\n",
    "ctx = drv.Device(dev_id).make_context()\n",
    "dev = drv.Context.get_device()\n",
    "free_bytes, total_bytes = drv.mem_get_info()\n",
    "print(f'Device {dev_id} {dev.name()}')\n",
    "print(f'Total Mem: {total_bytes//(1024)} kB, Free: {free_bytes//(1024)} kB')"
   ]
  },
  {
   "cell_type": "code",
   "execution_count": 5,
   "id": "5fae0755-16ec-4aaf-beb6-8ad941fe99c2",
   "metadata": {},
   "outputs": [],
   "source": [
    "# other stuff\n",
    "def device_details(_dev):\n",
    "    atts = [(str(att), value) \n",
    "            for att, value in list(_dev.get_attributes().items())]\n",
    "    atts.sort()\n",
    "\n",
    "    for att, value in atts:\n",
    "        print(f\"  {att}: {value}\")\n",
    "        \n",
    "#device_details(dev)"
   ]
  },
  {
   "cell_type": "code",
   "execution_count": null,
   "id": "f1de6302-179e-4a9f-86bc-5b0d1202d253",
   "metadata": {},
   "outputs": [],
   "source": []
  }
 ],
 "metadata": {
  "kernelspec": {
   "display_name": "Python 3 (ipykernel)",
   "language": "python",
   "name": "python3"
  },
  "language_info": {
   "codemirror_mode": {
    "name": "ipython",
    "version": 3
   },
   "file_extension": ".py",
   "mimetype": "text/x-python",
   "name": "python",
   "nbconvert_exporter": "python",
   "pygments_lexer": "ipython3",
   "version": "3.8.10"
  }
 },
 "nbformat": 4,
 "nbformat_minor": 5
}
