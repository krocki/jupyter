{
 "cells": [
  {
   "cell_type": "code",
   "execution_count": 2,
   "id": "2bca053d-8578-4a2e-ac35-7cd58b6eb6cd",
   "metadata": {},
   "outputs": [
    {
     "name": "stdout",
     "output_type": "stream",
     "text": [
      "original array:\n",
      "[[ 0.8024446   1.0366786  -0.60228217  0.2861784 ]\n",
      " [ 0.23595941  2.5766768   0.55724376 -0.4264042 ]\n",
      " [-0.2525655   0.3432881   0.39916003  0.75750685]\n",
      " [ 0.02231747  0.68154705  0.9312098   0.9616823 ]]\n",
      "doubled with numba:\n",
      "[[ 1.6048892   2.073357   -1.2045643   0.5723568 ]\n",
      " [ 0.47191882  5.1533537   1.1144875  -0.8528084 ]\n",
      " [-0.505131    0.6865762   0.79832006  1.5150137 ]\n",
      " [ 0.04463494  1.3630941   1.8624196   1.9233646 ]]\n"
     ]
    },
    {
     "name": "stderr",
     "output_type": "stream",
     "text": [
      "/home/krocki/.local/lib/python3.8/site-packages/numba/cuda/compiler.py:865: NumbaPerformanceWarning: \u001b[1mGrid size (16) < 2 * SM count (216) will likely result in GPU under utilization due to low occupancy.\u001b[0m\n",
      "  warn(NumbaPerformanceWarning(msg))\n"
     ]
    }
   ],
   "source": [
    "from numba import cuda\n",
    "\n",
    "import pycuda.driver as pycuda\n",
    "# We use autoprimaryctx instead of autoinit because Numba can only operate on a\n",
    "# primary context\n",
    "import pycuda.autoprimaryctx  # noqa\n",
    "import pycuda.gpuarray as gpuarray\n",
    "\n",
    "import numpy\n",
    "import os\n",
    "os.environ[\"CUDA_HOME\"]=\"/usr/local/cuda\"\n",
    "\n",
    "# Create a PyCUDA gpuarray\n",
    "a_gpu = gpuarray.to_gpu(numpy.random.randn(4, 4).astype(numpy.float32))\n",
    "print(\"original array:\")\n",
    "print(a_gpu)\n",
    "\n",
    "\n",
    "# A standard Numba kernel that doubles its input array\n",
    "@cuda.jit\n",
    "def double(x):\n",
    "    i, j = cuda.grid(2)\n",
    "\n",
    "    if i < x.shape[0] and j < x.shape[1]:\n",
    "        x[i, j] *= 2\n",
    "\n",
    "\n",
    "# Call the Numba kernel on the PyCUDA gpuarray, using the CUDA Array Interface\n",
    "# transparently\n",
    "double[(4, 4), (1, 1)](a_gpu)\n",
    "print(\"doubled with numba:\")\n",
    "print(a_gpu)"
   ]
  },
  {
   "cell_type": "code",
   "execution_count": null,
   "id": "c83bfe36-b542-49d8-bd58-e44c1caf449f",
   "metadata": {},
   "outputs": [],
   "source": []
  }
 ],
 "metadata": {
  "kernelspec": {
   "display_name": "Python 3 (ipykernel)",
   "language": "python",
   "name": "python3"
  },
  "language_info": {
   "codemirror_mode": {
    "name": "ipython",
    "version": 3
   },
   "file_extension": ".py",
   "mimetype": "text/x-python",
   "name": "python",
   "nbconvert_exporter": "python",
   "pygments_lexer": "ipython3",
   "version": "3.8.10"
  }
 },
 "nbformat": 4,
 "nbformat_minor": 5
}
