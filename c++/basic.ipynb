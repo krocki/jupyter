{
 "cells": [
  {
   "cell_type": "code",
   "execution_count": 1,
   "id": "71499af8-6d16-4706-a3b8-3ad148daf491",
   "metadata": {},
   "outputs": [
    {
     "name": "stdout",
     "output_type": "stream",
     "text": [
      "original text: abc (def) abd def\n",
      "modified text: abc a abd def\n"
     ]
    },
    {
     "data": {
      "text/plain": [
       "(std::basic_ostream<char, std::char_traits<char> > &) @0x7f80c0ade480\n"
      ]
     },
     "execution_count": 1,
     "metadata": {},
     "output_type": "execute_result"
    }
   ],
   "source": [
    "#include <string>\n",
    "#include <regex>\n",
    "#include <iostream>\n",
    "#include <functional>\n",
    "\n",
    "std::string find_replace_all(std::string &str, std::string patt, std::string replacement) {\n",
    "\n",
    "  std::regex r(patt);\n",
    "  std::string output = std::regex_replace(str, r, replacement);\n",
    "  return output;\n",
    "}\n",
    "\n",
    "std::string input = \"abc (def) abd def\";\n",
    "std::cout << \"original text: \" << input << \"\\n\";\n",
    "std::string output = find_replace_all(input, \"\\\\(def\\\\)\", \"a\");\n",
    "std::cout << \"modified text: \" << output << \"\\n\";"
   ]
  },
  {
   "cell_type": "code",
   "execution_count": 2,
   "id": "9d128b71-6b28-40ba-8cdd-40aa7e84932e",
   "metadata": {},
   "outputs": [
    {
     "name": "stderr",
     "output_type": "stream",
     "text": [
      "input_line_5:12:1: error: unknown type name 'idxval'\n",
      "idxval iamax(std::vector<float> &arr) {\n",
      "^\n",
      "input_line_5:22:1: error: expected member name or ';' after declaration specifiers\n",
      "for (auto v: arr) {\n",
      "^\n",
      "input_line_5:26:1: error: unknown type name 'idxval'\n",
      "idxval p = iamax(arr);\n",
      "^\n",
      "input_line_5:27:6: error: no type named 'cout' in namespace 'std'\n",
      "std::cout << \"idx: \" << p.idx << \", val: \" << p.val << \"\\n\";\n",
      "~~~~~^\n",
      "input_line_5:27:11: error: expected member name or ';' after declaration specifiers\n",
      "std::cout << \"idx: \" << p.idx << \", val: \" << p.val << \"\\n\";\n",
      "~~~~~~~~~ ^\n",
      "input_line_5:17:12: error: use of undeclared identifier 'idxval'\n",
      "    return idxval({idx, arr[idx]});\n",
      "           ^\n",
      "input_line_5:29:2: error: expected ';' after struct\n",
      "}\n",
      " ^\n",
      " ;\n"
     ]
    },
    {
     "ename": "ename",
     "evalue": "evalue",
     "output_type": "error",
     "traceback": []
    }
   ],
   "source": [
    "#include <vector>\n",
    "#include <iostream>\n",
    "#include <utility>\n",
    "#include <tuple>\n",
    "\n",
    "using idxval = struct id {\n",
    "    int idx;\n",
    "    float val;\n",
    "    };\n",
    "\n",
    "idxval iamax(std::vector<float> &arr) {\n",
    "    int idx = 0;\n",
    "    for (int i=0; i<arr.size(); i++) {\n",
    "        if (arr[i] > arr[idx]) idx = i;\n",
    "    }\n",
    "    return idxval({idx, arr[idx]});\n",
    "}\n",
    "\n",
    "\n",
    "std::vector<float> arr = {1.f, 0.5f, 2.f, 0.7f};\n",
    "for (auto v: arr) {\n",
    "    std::cout << v << \" \";\n",
    "}\n",
    "std::cout << \"\\n\";\n",
    "idxval p = iamax(arr);\n",
    "std::cout << \"idx: \" << p.idx << \", val: \" << p.val << \"\\n\";"
   ]
  },
  {
   "cell_type": "code",
   "execution_count": null,
   "id": "18bb95fc-2a7a-4cee-8a2c-e4839fecb2da",
   "metadata": {},
   "outputs": [],
   "source": [
    "#include <iostream>\n",
    "#include <algorithm>\n",
    "#include <string>\n",
    "#include <vector>\n",
    "#include <tuple>\n",
    "using namespace std;\n",
    "\n",
    "  \n",
    "  using record = tuple<int, string, int>;\n",
    "  \n",
    "  vector<record> phonebook = {\n",
    "    {2, \"kate\", 555999123},\n",
    "    {3, \"mike\", 555333555},\n",
    "    {1, \"john\", 345123332}\n",
    "  };\n",
    "  \n",
    "  auto sort_by_number = [](auto &a, auto &b) {\n",
    "    return get<2>(a) < get<2>(b); };\n",
    "  \n",
    "  sort(phonebook.begin(), phonebook.end(), sort_by_number);\n",
    "  \n",
    "  for (auto [id, name, number]: phonebook) {\n",
    "    cout << id << \", \" << name << \", \" << number << \"\\n\";\n",
    "  }\n"
   ]
  },
  {
   "cell_type": "code",
   "execution_count": null,
   "id": "e961d597-3164-484a-8efc-96d0ef3e855b",
   "metadata": {},
   "outputs": [],
   "source": []
  }
 ],
 "metadata": {
  "kernelspec": {
   "display_name": "C++17",
   "language": "C++",
   "name": "cling-cpp17"
  },
  "language_info": {
   "codemirror_mode": "c++",
   "file_extension": ".c++",
   "mimetype": "text/x-c++src",
   "name": "c++"
  }
 },
 "nbformat": 4,
 "nbformat_minor": 5
}
