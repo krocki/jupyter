{
 "cells": [
  {
   "cell_type": "code",
   "execution_count": 26,
   "id": "6cdac03a-93db-4778-8c88-0f8202f1ba23",
   "metadata": {},
   "outputs": [
    {
     "data": {
      "image/png": "[encoded data removed]",
      "text/plain": [
       "<Figure size 288x288 with 1 Axes>"
      ]
     },
     "metadata": {
      "needs_background": "light"
     },
     "output_type": "display_data"
    }
   ],
   "source": [
    "import time\n",
    "from cffi import FFI\n",
    "from array2gif import write_gif\n",
    "import numpy as np\n",
    "import random\n",
    "import matplotlib.pyplot as plt\n",
    "\n",
    "binary      = 'sierp0.bin'\n",
    "\n",
    "with open(binary, \"rb\") as f:\n",
    "    prog = f.read()\n",
    "    \n",
    "# init nv6502\n",
    "def init(ffi):\n",
    "    _nv6502 = ffi.dlopen(\"./nv6502.so\");\n",
    "    return _nv6502\n",
    "\n",
    "def execute(prog): \n",
    "    ffi = FFI()\n",
    "    ffi.cdef(\"\"\"\n",
    "       typedef uint8_t u8;\n",
    "       void run(int num_blocks, int threads_per_block, int steps, int iters, const char *name);\n",
    "       extern u8 mem[4][0x1000];\n",
    "    \"\"\")\n",
    "    \n",
    "    C = init(ffi)\n",
    "    C.run(1, 4, 5000, 1, b'sierp0.bin')\n",
    "    _scr = np.zeros((1024,1), dtype='uint8')\n",
    "    for i in range(0x200, 0x600): _scr[i-0x200] = C.mem[0][i]\n",
    "    _scr = _scr.reshape(32,32)\n",
    "    plt.matshow(_scr)\n",
    "    \n",
    "execute('')\n"
   ]
  },
  {
   "cell_type": "code",
   "execution_count": null,
   "id": "ba190080-a565-4af1-9e2d-474b2269c0ab",
   "metadata": {},
   "outputs": [],
   "source": [
    "# we just a 6502 emulator on GPU"
   ]
  },
  {
   "cell_type": "code",
   "execution_count": null,
   "id": "08e60c76-9e5f-40f7-982a-e6b45be129ef",
   "metadata": {},
   "outputs": [],
   "source": []
  },
  {
   "cell_type": "code",
   "execution_count": null,
   "id": "57c75e6a-701b-4e16-a34c-33b11d347973",
   "metadata": {},
   "outputs": [],
   "source": []
  }
 ],
 "metadata": {
  "kernelspec": {
   "display_name": "Python 3 (ipykernel)",
   "language": "python",
   "name": "python3"
  },
  "language_info": {
   "codemirror_mode": {
    "name": "ipython",
    "version": 3
   },
   "file_extension": ".py",
   "mimetype": "text/x-python",
   "name": "python",
   "nbconvert_exporter": "python",
   "pygments_lexer": "ipython3",
   "version": "3.8.10"
  }
 },
 "nbformat": 4,
 "nbformat_minor": 5
}
