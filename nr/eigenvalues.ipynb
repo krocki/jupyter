{
 "cells": [
  {
   "cell_type": "code",
   "execution_count": 1,
   "id": "b1de12d4-1aeb-486c-a65a-569ff9b5d78e",
   "metadata": {},
   "outputs": [],
   "source": [
    "import numpy as np\n",
    "import math\n",
    "\n",
    "# https://johnfoster.pge.utexas.edu/numerical-methods-book/LinearAlgebra_EigenProblem2.html\n",
    "\n",
    "def gen_symm(n, rmin = -10, rmax = 10):\n",
    "  x = np.random.randint(rmin, rmax+1, size=(n, n))\n",
    "  return (x + x.T)/2\n",
    "\n",
    "def householder(A):\n",
    "\n",
    "  n = A.shape[0]\n",
    "  v = np.zeros(n, dtype=np.double)\n",
    "  u = np.zeros(n, dtype=np.double)\n",
    "  z = np.zeros(n, dtype=np.double)\n",
    "\n",
    "  for k in range(0, n - 2):\n",
    "\n",
    "    if np.isclose(A[k+1, k], 0.0):\n",
    "      α = -np.sqrt(np.sum(A[(k+1):, k] ** 2))\n",
    "    else:\n",
    "      α = -np.sign(A[k+1, k]) * np.sqrt(np.sum(A[(k+1):, k] ** 2))\n",
    "\n",
    "      two_r_squared = α ** 2 - α * A[k+1, k]\n",
    "      v[k] = 0.0\n",
    "      v[k+1] = A[k+1, k] - α\n",
    "      v[(k + 2):] = A[(k + 2):, k]\n",
    "      u[k:] = 1.0 / two_r_squared * np.dot(A[k:, (k+1):], v[(k+1):])\n",
    "      z[k:] = u[k:] - np.dot(u, v) / (2.0 * two_r_squared) * v[k:]\n",
    "\n",
    "      for l in range(k+1, n - 1):\n",
    "\n",
    "        A[(l+1):, l] = ( A[(l+1):, l] - v[l] * z[(l+1):] - v[(l+1):] * z[l])\n",
    "        A[l, (l+1):] = A[(l+1):, l]\n",
    "        A[l, l] = A[l, l] - 2 * v[l] * z[l]\n",
    "\n",
    "      A[-1, -1] = A[-1, -1] - 2 * v[-1] * z[-1]\n",
    "      A[k, (k + 2):] = 0.0\n",
    "      A[(k + 2):, k] = 0.0\n",
    "\n",
    "      A[k+1, k] = A[k+1, k] - v[k+1] * z[k]\n",
    "      A[k, k+1] = A[k+1, k]\n",
    "\n",
    "  return A"
   ]
  },
  {
   "cell_type": "code",
   "execution_count": 2,
   "id": "9a08b32d-0ee6-4645-866d-b615c07faaec",
   "metadata": {},
   "outputs": [
    {
     "name": "stdout",
     "output_type": "stream",
     "text": [
      "[[ 2.   1.  -7.  -1.5 -4. ]\n",
      " [ 1.  -1.   5.5  7.5  2. ]\n",
      " [-7.   5.5 -9.  -4.5  3. ]\n",
      " [-1.5  7.5 -4.5  3.   2. ]\n",
      " [-4.   2.   3.   2.   9. ]]\n"
     ]
    }
   ],
   "source": [
    "np.random.seed(0)\n",
    "np.set_printoptions(precision=3)\n",
    "N = 5\n",
    "A = gen_symm(N)\n",
    "print(A)"
   ]
  },
  {
   "cell_type": "code",
   "execution_count": 3,
   "id": "c2f311d1-8bb1-4d1b-bf81-b91e43c0ae3b",
   "metadata": {},
   "outputs": [
    {
     "name": "stdout",
     "output_type": "stream",
     "text": [
      "[[  2.     -8.261   0.      0.      0.   ]\n",
      " [ -8.261  -4.531 -12.175   0.      0.   ]\n",
      " [  0.    -12.175  -0.285   4.493   0.   ]\n",
      " [  0.      0.      4.493   3.466   4.404]\n",
      " [  0.      0.      0.      4.404   3.35 ]]\n"
     ]
    }
   ],
   "source": [
    "P = householder(A.copy())\n",
    "print(P)"
   ]
  },
  {
   "cell_type": "code",
   "execution_count": null,
   "id": "1052a937-1a3d-4588-8947-1c986ee61a9b",
   "metadata": {},
   "outputs": [],
   "source": []
  }
 ],
 "metadata": {
  "kernelspec": {
   "display_name": "Python 3 (ipykernel)",
   "language": "python",
   "name": "python3"
  },
  "language_info": {
   "codemirror_mode": {
    "name": "ipython",
    "version": 3
   },
   "file_extension": ".py",
   "mimetype": "text/x-python",
   "name": "python",
   "nbconvert_exporter": "python",
   "pygments_lexer": "ipython3",
   "version": "3.9.9"
  }
 },
 "nbformat": 4,
 "nbformat_minor": 5
}
