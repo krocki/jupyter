{
 "cells": [
  {
   "cell_type": "code",
   "execution_count": 1,
   "id": "71499af8-6d16-4706-a3b8-3ad148daf491",
   "metadata": {},
   "outputs": [
    {
     "name": "stdout",
     "output_type": "stream",
     "text": [
      "original text: abc (def) abd def\n",
      "modified text: abc a abd def\n"
     ]
    },
    {
     "data": {
      "text/plain": [
       "(std::basic_ostream<char, std::char_traits<char> > &) @0x7fca766bd480\n"
      ]
     },
     "execution_count": 1,
     "metadata": {},
     "output_type": "execute_result"
    }
   ],
   "source": [
    "#include <string>\n",
    "#include <regex>\n",
    "#include <iostream>\n",
    "#include <functional>\n",
    "\n",
    "std::string find_replace_all(std::string &str, std::string patt, std::string replacement) {\n",
    "\n",
    "  std::regex r(patt);\n",
    "  std::string output = std::regex_replace(str, r, replacement);\n",
    "  return output;\n",
    "}\n",
    "\n",
    "std::string input = \"abc (def) abd def\";\n",
    "std::cout << \"original text: \" << input << \"\\n\";\n",
    "std::string output = find_replace_all(input, \"\\\\(def\\\\)\", \"a\");\n",
    "std::cout << \"modified text: \" << output << \"\\n\";"
   ]
  },
  {
   "cell_type": "code",
   "execution_count": 2,
   "id": "9d128b71-6b28-40ba-8cdd-40aa7e84932e",
   "metadata": {},
   "outputs": [
    {
     "name": "stdout",
     "output_type": "stream",
     "text": [
      "1 0.5 2 0.7 \n"
     ]
    },
    {
     "data": {
      "text/plain": [
       "(std::basic_ostream<char, std::char_traits<char> > &) @0x7fca766bd480\n"
      ]
     },
     "execution_count": 2,
     "metadata": {},
     "output_type": "execute_result"
    }
   ],
   "source": [
    "#include <vector>\n",
    "#include <iostream>\n",
    "#include <utility>\n",
    "\n",
    "/*\n",
    "std::pair<int, float> iamax(std::vector<float> &arr) {\n",
    "    int idx = 0;\n",
    "    for (int i=0; i<arr.size(); i++) {\n",
    "        if (arr[i] > arr[idx]) idx = i;\n",
    "    }\n",
    "    return {idx, arr[idx]};\n",
    "}\n",
    "*/\n",
    "\n",
    "std::vector<float> arr = {1.f, 0.5f, 2.f, 0.7f};\n",
    "for (auto v: arr) {\n",
    "    std::cout << v << \" \";\n",
    "}\n",
    "std::cout << \"\\n\";\n",
    "//auto [idx, val] = iamax(x);\n",
    "//std::cout << \"idx: \" << idx << \", val: \" << val << \"\\n\";"
   ]
  },
  {
   "cell_type": "code",
   "execution_count": 3,
   "id": "18bb95fc-2a7a-4cee-8a2c-e4839fecb2da",
   "metadata": {},
   "outputs": [
    {
     "name": "stdout",
     "output_type": "stream",
     "text": [
      "1, john, 345123332\n",
      "2, kate, 555999123\n",
      "3, mike, 555333555\n"
     ]
    },
    {
     "data": {
      "text/plain": []
     },
     "execution_count": 3,
     "metadata": {},
     "output_type": "execute_result"
    }
   ],
   "source": [
    "#include <iostream>\n",
    "#include <algorithm>\n",
    "#include <string>\n",
    "#include <vector>\n",
    "#include <tuple>\n",
    "using namespace std;\n",
    "\n",
    "  \n",
    "  using record = tuple<int, string, int>;\n",
    "  \n",
    "  vector<record> phonebook = {\n",
    "    {2, \"kate\", 555999123},\n",
    "    {3, \"mike\", 555333555},\n",
    "    {1, \"john\", 345123332}\n",
    "  };\n",
    "  \n",
    "  auto sort_by_number = [](auto &a, auto &b) {\n",
    "    return get<1>(a) < get<1>(b); };\n",
    "  \n",
    "  sort(phonebook.begin(), phonebook.end(), sort_by_number);\n",
    "  \n",
    "  for (auto [id, name, number]: phonebook) {\n",
    "    cout << id << \", \" << name << \", \" << number << \"\\n\";\n",
    "  }\n",
    "\n",
    "\n",
    "/*\n",
    "\n",
    "1, john, 345123332\n",
    "2, kate, 555999123\n",
    "3, mike, 555333555\n",
    "\n",
    "*/"
   ]
  },
  {
   "cell_type": "code",
   "execution_count": null,
   "id": "e961d597-3164-484a-8efc-96d0ef3e855b",
   "metadata": {},
   "outputs": [],
   "source": []
  }
 ],
 "metadata": {
  "kernelspec": {
   "display_name": "C++17",
   "language": "C++",
   "name": "cling-cpp17"
  },
  "language_info": {
   "codemirror_mode": "c++",
   "file_extension": ".c++",
   "mimetype": "text/x-c++src",
   "name": "c++"
  }
 },
 "nbformat": 4,
 "nbformat_minor": 5
}
