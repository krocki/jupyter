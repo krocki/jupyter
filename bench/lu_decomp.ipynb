{
 "cells": [
  {
   "cell_type": "code",
   "execution_count": 3,
   "id": "e17ce586-eb37-4108-8652-23b3a40d53b7",
   "metadata": {},
   "outputs": [
    {
     "name": "stdout",
     "output_type": "stream",
     "text": [
      "A.shape=(8192, 8192) b.shape=(8192, 64)\n",
      "N=8192, R=64, getrf_gflop=366.470, getrs_gflop=4.294\n",
      "\n",
      "numpy err  = 7.70591e-09\n",
      "numpy time = 5260.0043 ms, 70.4875 GF/s\n"
     ]
    }
   ],
   "source": [
    "\"\"\"\n",
    "Solve Ax = b using cuSolver (LU decomposition)\n",
    "\"\"\"\n",
    "\n",
    "# numpy/init part\n",
    "import numpy as np\n",
    "import matplotlib.pyplot as plt\n",
    "from time import time\n",
    "\n",
    "%matplotlib inline\n",
    "plt.rcParams['figure.figsize'] = [15, 10]\n",
    "np.set_printoptions(formatter={'float': '{: .3f}'.format})\n",
    "\n",
    "N = 8192  # size\n",
    "R = 64    # nrhs\n",
    "run_numpy = True\n",
    "\n",
    "# https://cscproxy.mpi-magdeburg.mpg.de/mpcsc/lehre/2016_WS_SC/handouts/handout_LU_counting.pdf\n",
    "getrf_gflop = 1e-9 * ((2/3)* N**3 - (1/2)* N**2) # approximately\n",
    "getrs_gflop = 1e-9 * (R * (N**2 - N)) # more/less proporional to R\n",
    "total_gflop = getrs_gflop + getrf_gflop\n",
    "\n",
    "A = np.random.randn(N, N).astype(np.float64, order='F')\n",
    "b = np.random.randn(N, R).astype(np.float64, order='F')\n",
    "\n",
    "# just to confirm\n",
    "print(f'{A.shape=} {b.shape=}')\n",
    "print(f'{N=}, {R=}, {getrf_gflop=:5.3f}, {getrs_gflop=:5.3f}')\n",
    "print('')\n",
    "\n",
    "if run_numpy:\n",
    "    \n",
    "    t0 = time()\n",
    "    x = np.linalg.solve(A, b).astype(np.float64)\n",
    "    t_numpy = (time() - t0)\n",
    "\n",
    "    err = np.linalg.norm(np.dot(A, x) - b)\n",
    "    print(f'numpy err  = {err:g}\\n'\n",
    "          f'numpy time = {1e3 * t_numpy:.4f} ms, {total_gflop/t_numpy:.4f} GF/s')\n",
    "else:\n",
    "    # just a placeholder\n",
    "    x = np.zeros((N, R)).astype(np.float64, order='F')\n",
    "    t_numpy = np.inf\n",
    "    err = np.inf"
   ]
  },
  {
   "cell_type": "code",
   "execution_count": 4,
   "id": "9ff86588-3aac-45a6-9ae9-6136c2bf93ea",
   "metadata": {},
   "outputs": [],
   "source": [
    "# GPU\n",
    "import pycuda.autoinit\n",
    "import pycuda.gpuarray as gpuarray\n",
    "import pycuda.driver as drv\n",
    "\n",
    "import skcuda.cublas as cublas\n",
    "import skcuda.cusolver as cusolver\n",
    "\n",
    "def lu_cusolver(handle, A, b):\n",
    "        \n",
    "    d_A = gpuarray.to_gpu(A)\n",
    "    d_b = gpuarray.to_gpu(b)\n",
    "\n",
    "    d_info = gpuarray.zeros(1, np.int32)\n",
    "    d_ipiv = gpuarray.zeros((N, ), np.int32)\n",
    "\n",
    "    worksize = cusolver.cusolverDnDgetrf_bufferSize(handle, N, N, d_A.ptr, 0)\n",
    "    scratchpad = gpuarray.empty(worksize, np.float64)\n",
    "\n",
    "    start_getrf = drv.Event()\n",
    "    end_getrf   = drv.Event()\n",
    "\n",
    "    # cusolverDnDgetrf(\n",
    "    # handle, m, n, a, lda, workspace, devIpiv, devInfo)\n",
    "    start_getrf.record()\n",
    "\n",
    "    lu_status = cusolver.cusolverDnDgetrf(\n",
    "        handle=handle,\n",
    "        m=N,\n",
    "        n=N,\n",
    "        a=d_A.ptr,\n",
    "        lda=N,\n",
    "        workspace=scratchpad.ptr,\n",
    "        devIpiv=d_ipiv.ptr,\n",
    "        devInfo=d_info.ptr\n",
    "    )\n",
    "\n",
    "    end_getrf.record()\n",
    "    end_getrf.synchronize()\n",
    "    getrf_time = end_getrf.time_since(start_getrf) / 1e3\n",
    "    \n",
    "    if d_info.get()[0] != 0:\n",
    "        print(f'! err: {d_info}')\n",
    "\n",
    "    # show the left top corner for debug\n",
    "    #fig = plt.matshow(d_A.get()[:64,:64])\n",
    "\n",
    "    start_getrs = drv.Event()\n",
    "    end_getrs   = drv.Event()\n",
    "\n",
    "    start_getrs.record()\n",
    "\n",
    "    # cusolverDnDgetrs(\n",
    "    # handle, trans, n, nrhs, a, lda, devIpiv, B, ldb, devInfo)\n",
    "\n",
    "    solve_status = cusolver.cusolverDnDgetrs(\n",
    "        handle=handle,\n",
    "        trans=0,\n",
    "        n=N,\n",
    "        nrhs=R,\n",
    "        a=d_A.ptr,\n",
    "        lda=N,\n",
    "        devIpiv=d_ipiv.ptr,\n",
    "        B=d_b.ptr,\n",
    "        ldb=N,\n",
    "        devInfo=d_info.ptr\n",
    "    )\n",
    "\n",
    "    end_getrs.record()\n",
    "    end_getrs.synchronize()\n",
    "    getrs_time = end_getrs.time_since(start_getrs) / 1e3\n",
    "    \n",
    "    if d_info.get()[0] != 0:\n",
    "        print(f'! err: {d_info}')\n",
    "    \n",
    "    x_cuda = d_b.get()\n",
    "\n",
    "    return x_cuda, getrf_time, getrs_time "
   ]
  },
  {
   "cell_type": "code",
   "execution_count": 5,
   "id": "58727da8-48a0-41b1-8b47-5ace12342a11",
   "metadata": {},
   "outputs": [
    {
     "name": "stdout",
     "output_type": "stream",
     "text": [
      "pycuda.VERSION_TEXT='2021.1'\n",
      "drv.get_version()=(11, 5, 0)\n",
      "drv.get_driver_version()=11050\n",
      "5 device(s) found.\n",
      "\n",
      "Using device 1 (NVIDIA A100-SXM-80GB)\n",
      "108 SMs, 2039 GBps, 40.0 MB L2\n",
      "\n",
      "cusolverDnDgetrf time = 0.0988 ms, 3709.1813 GF/s\n",
      "cusolverDnDgetrs time = 0.0086 ms, 498.6729 GF/s\n",
      "cusolver err          = 2.32578e-08\n",
      "\n"
     ]
    },
    {
     "data": {
      "text/plain": [
       "Text(0.5, 1.0, 'solution cusolver')"
      ]
     },
     "execution_count": 5,
     "metadata": {},
     "output_type": "execute_result"
    },
    {
     "data": {
      "image/png": "[encoded data removed]",
      "text/plain": [
       "<Figure size 1152x144 with 1 Axes>"
      ]
     },
     "metadata": {
      "needs_background": "light"
     },
     "output_type": "display_data"
    },
    {
     "data": {
      "image/png": "[encoded data removed]",
      "text/plain": [
       "<Figure size 1152x144 with 1 Axes>"
      ]
     },
     "metadata": {
      "needs_background": "light"
     },
     "output_type": "display_data"
    }
   ],
   "source": [
    "print(f'{pycuda.VERSION_TEXT=}')\n",
    "print(f'{drv.get_version()=}')\n",
    "print(f'{drv.get_driver_version()=}')\n",
    "\n",
    "print(\"%d device(s) found.\" % drv.Device.count())\n",
    "print()\n",
    "\n",
    "# select device\n",
    "dev_id = 1\n",
    "ctx = drv.Device(dev_id).make_context()\n",
    "dev = drv.Context.get_device()\n",
    "free_bytes, total_bytes = drv.mem_get_info()\n",
    "print(f'Using device {dev_id} ({dev.name()})')\n",
    "\n",
    "attributes = drv.Context.get_device().get_attributes()\n",
    "sms = attributes[drv.device_attribute.MULTIPROCESSOR_COUNT]\n",
    "mcr = attributes[drv.device_attribute.MEMORY_CLOCK_RATE]\n",
    "bus = attributes[drv.device_attribute.GLOBAL_MEMORY_BUS_WIDTH]\n",
    "l2s = attributes[drv.device_attribute.L2_CACHE_SIZE]\n",
    "\n",
    "print(f\"{sms} SMs, {mcr*1000*bus*2*1e-9/8:.0f} GBps, {l2s/1024**2:.1f} MB L2\\n\")\n",
    "\n",
    "handle = cusolver.cusolverDnCreate()\n",
    "\n",
    "# LU using cuSolver\n",
    "x_cuda, getrf_time, getrs_time = lu_cusolver(handle, A, b)\n",
    "\n",
    "# check solution(s)\n",
    "err_cusolver = np.linalg.norm(np.dot(A, x_cuda) - b)\n",
    "status = cusolver.cusolverDnDestroy(handle)\n",
    "\n",
    "print(f'cusolverDnDgetrf time = {getrf_time:.4f} ms, {getrf_gflop/getrf_time:.4f} GF/s\\n'\n",
    "      f'cusolverDnDgetrs time = {getrs_time:.4f} ms, {getrs_gflop/getrs_time:.4f} GF/s\\n'\n",
    "      f'cusolver err          = {err_cusolver:g}\\n')\n",
    "\n",
    "# show the top left corners for debug\n",
    "plt.matshow(x[:128,:16].T)\n",
    "plt.title('solution numpy')\n",
    "plt.matshow(x_cuda[:128,:16].T)\n",
    "plt.title('solution cusolver')"
   ]
  },
  {
   "cell_type": "code",
   "execution_count": null,
   "id": "01e8ddc5-2eec-434d-b2bd-02d839dd71bd",
   "metadata": {},
   "outputs": [],
   "source": []
  }
 ],
 "metadata": {
  "kernelspec": {
   "display_name": "Python 3 (ipykernel)",
   "language": "python",
   "name": "python3"
  },
  "language_info": {
   "codemirror_mode": {
    "name": "ipython",
    "version": 3
   },
   "file_extension": ".py",
   "mimetype": "text/x-python",
   "name": "python",
   "nbconvert_exporter": "python",
   "pygments_lexer": "ipython3",
   "version": "3.8.10"
  }
 },
 "nbformat": 4,
 "nbformat_minor": 5
}
