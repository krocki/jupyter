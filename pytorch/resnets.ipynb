{
 "cells": [
  {
   "cell_type": "code",
   "execution_count": 1,
   "id": "af130bec-9b35-4488-947f-0f49ddbec651",
   "metadata": {},
   "outputs": [],
   "source": [
    "import os\n",
    "os.environ[\"CUDA_VISIBLE_DEVICES\"]=\"1\"\n",
    "\n",
    "import numpy as np\n",
    "import torch\n",
    "import torch.nn as nn\n",
    "import torch.nn.init as init\n",
    "import torch.nn.functional as F\n",
    "\n",
    "import logging\n",
    "\n",
    "logging.basicConfig(\n",
    "  format=\"%(asctime)s - %(levelname)s - %(name)s -   %(message)s\",\n",
    "  datefmt=\"%m/%d/%Y %H:%M:%S\",\n",
    "  level=logging.INFO,\n",
    ")\n",
    "\n",
    "class MyResNetArgs:\n",
    "   \"\"\"\n",
    "    Passing the hyperparameters to the model\n",
    "   \"\"\"\n",
    "   def __init__(self, arch='resnet20' ,epochs=10, start_epoch=0, batch_size=256, lr=0.1, momentum=0.9, weight_decay=1e-4, print_freq=55,\n",
    "                 evaluate=0, pretrained=0, half=0, save_dir='save_temp', save_every=10):\n",
    "        self.save_every = save_every #Saves checkpoints at every specified number of epochs\n",
    "        self.save_dir = save_dir #The directory used to save the trained models\n",
    "        self.half = half #use half-precision(16-bit)\n",
    "        self.evaluate = evaluate #evaluate model on the validation set\n",
    "        self.pretrained = pretrained #evaluate the pretrained model on the validation set\n",
    "        self.print_freq = print_freq #print frequency \n",
    "        self.weight_decay = weight_decay\n",
    "        self.momentum = momentum \n",
    "        self.lr = lr #Learning rate\n",
    "        self.batch_size = batch_size \n",
    "        self.start_epoch = start_epoch\n",
    "        self.epochs = epochs\n",
    "        self.arch = arch #ResNet model\n",
    " "
   ]
  },
  {
   "cell_type": "code",
   "execution_count": 2,
   "id": "e689bc1f-9a22-4672-a54e-41f29849375e",
   "metadata": {},
   "outputs": [
    {
     "name": "stdout",
     "output_type": "stream",
     "text": [
      "resnet20\n",
      "Total number of params 269722\n",
      "Total layers 20\n",
      "\n",
      "resnet32\n",
      "Total number of params 464154\n",
      "Total layers 32\n",
      "\n",
      "resnet44\n",
      "Total number of params 658586\n",
      "Total layers 44\n",
      "\n",
      "resnet56\n",
      "Total number of params 853018\n",
      "Total layers 56\n",
      "\n",
      "resnet110\n",
      "Total number of params 1727962\n",
      "Total layers 110\n",
      "\n",
      "resnet1202\n",
      "Total number of params 19421274\n",
      "Total layers 1202\n",
      "\n"
     ]
    }
   ],
   "source": [
    "       \n",
    "# We define all the classes and function regarding the ResNet architecture in this code cell\n",
    "__all__ = ['ResNet', 'resnet20', 'resnet32', 'resnet44', 'resnet56', 'resnet110', 'resnet1202']\n",
    " \n",
    "def _weights_init(m):\n",
    "    \"\"\"\n",
    "        Initialization of CNN weights\n",
    "    \"\"\"\n",
    "    classname = m.__class__.__name__\n",
    "    if isinstance(m, nn.Linear) or isinstance(m, nn.Conv2d):\n",
    "        init.kaiming_normal_(m.weight)\n",
    "\n",
    "\n",
    "class LambdaLayer(nn.Module):\n",
    "    \"\"\"\n",
    "      Identity mapping between ResNet blocks with diffrenet size feature map\n",
    "    \"\"\"\n",
    "    def __init__(self, lambd):\n",
    "        super(LambdaLayer, self).__init__()\n",
    "        self.lambd = lambd\n",
    "\n",
    "    def forward(self, x):\n",
    "        return self.lambd(x)\n",
    "\n",
    "# A basic block as shown in Fig.3 (right) in the paper consists of two convolutional blocks, each followed by a Bach-Norm layer. \n",
    "# Every basic block is shortcuted in ResNet architecture to construct f(x)+x module. \n",
    "# Expansion for option 'A' in the paper is equal to identity with extra zero entries padded\n",
    "# for increasing dimensions between layers with different feature map size. This option introduces no extra parameter. \n",
    "class BasicBlock(nn.Module):\n",
    "    expansion = 1\n",
    "\n",
    "    def __init__(self, in_planes, planes, stride=1, option='A'):\n",
    "        super(BasicBlock, self).__init__()\n",
    "        self.conv1 = nn.Conv2d(in_planes, planes, kernel_size=3, stride=stride, padding=1, bias=False)\n",
    "        self.bn1 = nn.BatchNorm2d(planes)\n",
    "        self.conv2 = nn.Conv2d(planes, planes, kernel_size=3, stride=1, padding=1, bias=False)\n",
    "        self.bn2 = nn.BatchNorm2d(planes)\n",
    "        self.shortcut = nn.Sequential()\n",
    "        if stride != 1 or in_planes != planes:\n",
    "            if option == 'A':\n",
    "                \"\"\"\n",
    "                For CIFAR10 experiment, ResNet paper uses option A.\n",
    "                \"\"\"\n",
    "                self.shortcut = LambdaLayer(lambda x:\n",
    "                                            F.pad(x[:, :, ::2, ::2], (0, 0, 0, 0, planes//4, planes//4), \"constant\", 0))\n",
    "            elif option == 'B':\n",
    "                self.shortcut = nn.Sequential(\n",
    "                     nn.Conv2d(in_planes, self.expansion * planes, kernel_size=1, stride=stride, bias=False),\n",
    "                     nn.BatchNorm2d(self.expansion * planes)\n",
    "                )\n",
    "\n",
    "    def forward(self, x):\n",
    "        out = F.relu(self.bn1(self.conv1(x)))\n",
    "        out = self.bn2(self.conv2(out))\n",
    "        out += self.shortcut(x)\n",
    "        out = F.relu(out)\n",
    "        return out\n",
    "\n",
    "# Stack of 3 times 2*n (n is the number of basic blocks) layers are used for making the ResNet model, \n",
    "# where each 2n layers have feature maps of size {16,32,64}, respectively. \n",
    "# The subsampling is performed by convolutions with a stride of 2.\n",
    "class ResNet(nn.Module):\n",
    "    def __init__(self, block, num_blocks, num_classes=10):\n",
    "        super(ResNet, self).__init__()\n",
    "        self.in_planes = 16\n",
    "        self.conv1 = nn.Conv2d(3, 16, kernel_size=3, stride=1, padding=1, bias=False)\n",
    "        self.bn1 = nn.BatchNorm2d(16)\n",
    "        self.layer1 = self._make_layer(block, 16, num_blocks[0], stride=1)\n",
    "        self.layer2 = self._make_layer(block, 32, num_blocks[1], stride=2)\n",
    "        self.layer3 = self._make_layer(block, 64, num_blocks[2], stride=2)\n",
    "        self.linear = nn.Linear(64, num_classes)\n",
    "        self.apply(_weights_init)\n",
    "\n",
    "    def _make_layer(self, block, planes, num_blocks, stride):\n",
    "        strides = [stride] + [1]*(num_blocks-1)\n",
    "        layers = []\n",
    "        for stride in strides:\n",
    "            layers.append(block(self.in_planes, planes, stride))\n",
    "            self.in_planes = planes * block.expansion\n",
    "\n",
    "        return nn.Sequential(*layers)\n",
    "\n",
    "    def forward(self, x):\n",
    "        out = F.relu(self.bn1(self.conv1(x)))\n",
    "        out = self.layer1(out)\n",
    "        out = self.layer2(out)\n",
    "        out = self.layer3(out)\n",
    "        out = F.avg_pool2d(out, out.size()[3])\n",
    "        out = out.view(out.size(0), -1)\n",
    "        out = self.linear(out)\n",
    "        return out\n",
    "\n",
    "\n",
    "def resnet20():\n",
    "    return ResNet(BasicBlock, [3, 3, 3])\n",
    "\n",
    "\n",
    "def resnet32():\n",
    "    return ResNet(BasicBlock, [5, 5, 5])\n",
    "\n",
    "\n",
    "def resnet44():\n",
    "    return ResNet(BasicBlock, [7, 7, 7])\n",
    "\n",
    "\n",
    "def resnet56():\n",
    "    return ResNet(BasicBlock, [9, 9, 9])\n",
    "\n",
    "\n",
    "def resnet110():\n",
    "    return ResNet(BasicBlock, [18, 18, 18])\n",
    "\n",
    "\n",
    "def resnet1202():\n",
    "    return ResNet(BasicBlock, [200, 200, 200])\n",
    "\n",
    "\n",
    "def test(net):\n",
    "    total_params = 0\n",
    "\n",
    "    for x in filter(lambda p: p.requires_grad, net.parameters()):\n",
    "        total_params += np.prod(x.data.numpy().shape)\n",
    "    print(\"Total number of params\", total_params)\n",
    "    print(\"Total layers\", len(list(filter(lambda p: p.requires_grad and len(p.data.size())>1, net.parameters()))))\n",
    "    \n",
    "for net_name in __all__:\n",
    "    if net_name.startswith('resnet'):\n",
    "        print(net_name)\n",
    "        test(globals()[net_name]())\n",
    "        print()"
   ]
  },
  {
   "cell_type": "code",
   "execution_count": 3,
   "id": "c1cf7277-c9d5-4b05-948b-037b3c6013f9",
   "metadata": {},
   "outputs": [],
   "source": [
    "def train(train_loader, model, criterion, optimizer, epoch):\n",
    "    \"\"\"\n",
    "        Run one train epoch\n",
    "    \"\"\"\n",
    "    batch_time = AverageMeter()\n",
    "    data_time = AverageMeter()\n",
    "    losses = AverageMeter()\n",
    "    top1 = AverageMeter()\n",
    "\n",
    "    # switch to train mode\n",
    "    model.train()\n",
    "\n",
    "    end = time.time()\n",
    "    for i, (input, target) in enumerate(train_loader):\n",
    "\n",
    "        # measure data loading time\n",
    "        data_time.update(time.time() - end)\n",
    "\n",
    "        target = target.cuda()\n",
    "        input_var = input.cuda()\n",
    "        target_var = target\n",
    "        if args.half:\n",
    "            input_var = input_var.half()\n",
    "\n",
    "        # compute output\n",
    "        output = model(input_var)\n",
    "        loss = criterion(output, target_var)\n",
    "\n",
    "        # compute gradient and do SGD step\n",
    "        optimizer.zero_grad()\n",
    "        loss.backward()\n",
    "        optimizer.step()\n",
    "\n",
    "        output = output.float()\n",
    "        loss = loss.float()\n",
    "        # measure accuracy and record loss\n",
    "        prec1 = accuracy(output.data, target)[0]\n",
    "        losses.update(loss.item(), input.size(0))\n",
    "        top1.update(prec1.item(), input.size(0))\n",
    "\n",
    "        # measure elapsed time\n",
    "        batch_time.update(time.time() - end)\n",
    "        end = time.time()\n",
    "\n",
    "        if i % args.print_freq == 0:\n",
    "            print('Epoch: [{0}][{1}/{2}]\\t'\n",
    "                  'Loss {loss.val:.4f} ({loss.avg:.4f})\\t'\n",
    "                  'Prec@1 {top1.val:.3f} ({top1.avg:.3f})'.format(\n",
    "                      epoch, i, len(train_loader), batch_time=batch_time,\n",
    "                      data_time=data_time, loss=losses, top1=top1))\n",
    "\n",
    "\n"
   ]
  },
  {
   "cell_type": "code",
   "execution_count": 4,
   "id": "374c5a1d-36df-4813-bd8e-afe37128b538",
   "metadata": {},
   "outputs": [],
   "source": [
    "def validate(val_loader, model, criterion):\n",
    "    \"\"\"\n",
    "    Run evaluation\n",
    "    \"\"\"\n",
    "    batch_time = AverageMeter()\n",
    "    losses = AverageMeter()\n",
    "    top1 = AverageMeter()\n",
    "\n",
    "    # switch to evaluate mode\n",
    "    model.eval()\n",
    "\n",
    "    end = time.time()\n",
    "    with torch.no_grad():\n",
    "        for i, (input, target) in enumerate(val_loader):\n",
    "            target = target.cuda()\n",
    "            input_var = input.cuda()\n",
    "            target_var = target.cuda()\n",
    "\n",
    "            if args.half:\n",
    "                input_var = input_var.half()\n",
    "\n",
    "            # compute output\n",
    "            output = model(input_var)\n",
    "            loss = criterion(output, target_var)\n",
    "\n",
    "            output = output.float()\n",
    "            loss = loss.float()\n",
    "\n",
    "            # measure accuracy and record loss\n",
    "            prec1 = accuracy(output.data, target)[0]\n",
    "            losses.update(loss.item(), input.size(0))\n",
    "            top1.update(prec1.item(), input.size(0))\n",
    "\n",
    "            # measure elapsed time\n",
    "            batch_time.update(time.time() - end)\n",
    "            end = time.time()\n",
    "\n",
    "\n",
    "    print('Test\\t  Prec@1: {top1.avg:.3f} (Err: {error:.3f} )\\n'\n",
    "          .format(top1=top1,error=100-top1.avg))\n",
    "\n",
    "    return top1.avg\n",
    "\n",
    "def save_checkpoint(state, filename='checkpoint.th'):\n",
    "    \"\"\"\n",
    "    Save the training model\n",
    "    \"\"\"\n",
    "    torch.save(state, filename)\n"
   ]
  },
  {
   "cell_type": "code",
   "execution_count": 5,
   "id": "2913e0e6-eb1a-4077-bb1d-2e8fce79f604",
   "metadata": {},
   "outputs": [],
   "source": [
    "class AverageMeter(object):\n",
    "    \"\"\"Computes and stores the average and current value\"\"\"\n",
    "    def __init__(self):\n",
    "        self.reset()\n",
    "\n",
    "    def reset(self):\n",
    "        self.val = 0\n",
    "        self.avg = 0\n",
    "        self.sum = 0\n",
    "        self.count = 0\n",
    "\n",
    "    def update(self, val, n=1):\n",
    "        self.val = val\n",
    "        self.sum += val * n\n",
    "        self.count += n\n",
    "        self.avg = self.sum / self.count\n",
    "\n",
    "\n",
    "def accuracy(output, target, topk=(1,)):\n",
    "    \"\"\"Computes the precision@k for the specified values of k\"\"\"\n",
    "    maxk = max(topk)\n",
    "    batch_size = target.size(0)\n",
    "\n",
    "    _, pred = output.topk(maxk, 1, True, True)\n",
    "    pred = pred.t()\n",
    "    correct = pred.eq(target.view(1, -1).expand_as(pred))\n",
    "\n",
    "    res = []\n",
    "    for k in topk:\n",
    "        correct_k = correct[:k].view(-1).float().sum(0)\n",
    "        res.append(correct_k.mul_(100.0 / batch_size))\n",
    "    return res"
   ]
  },
  {
   "cell_type": "code",
   "execution_count": 6,
   "id": "99665a1d-b655-4929-a9e0-00a3fb543f73",
   "metadata": {},
   "outputs": [],
   "source": [
    "import torchvision\n",
    "import torchvision.transforms as transforms\n",
    "import torchvision.datasets as datasets\n",
    "import matplotlib.pyplot as plt\n",
    "\n",
    "\n",
    "normalize = transforms.Normalize(mean=[0.485, 0.456, 0.406],\n",
    "                                 std=[0.229, 0.224, 0.225])"
   ]
  },
  {
   "cell_type": "code",
   "execution_count": 7,
   "id": "22ee4e74-cb2c-4fad-8a23-a86ba0b2518c",
   "metadata": {},
   "outputs": [
    {
     "name": "stdout",
     "output_type": "stream",
     "text": [
      "Files already downloaded and verified\n"
     ]
    },
    {
     "data": {
      "text/plain": [
       "<Figure size 1440x720 with 0 Axes>"
      ]
     },
     "execution_count": 7,
     "metadata": {},
     "output_type": "execute_result"
    },
    {
     "data": {
      "text/plain": [
       "<Figure size 1440x720 with 0 Axes>"
      ]
     },
     "metadata": {},
     "output_type": "display_data"
    }
   ],
   "source": [
    "args=MyResNetArgs('resnet20',pretrained=0)\n",
    "\n",
    "train_loader = torch.utils.data.DataLoader(\n",
    "        datasets.CIFAR10(root='./data', train=True, transform=transforms.Compose([\n",
    "            transforms.RandomHorizontalFlip(),\n",
    "            transforms.RandomCrop(32, 4),\n",
    "            transforms.ToTensor(),\n",
    "            normalize,\n",
    "        ]), download=True),\n",
    "        batch_size=args.batch_size, shuffle=True,\n",
    "        num_workers=4, pin_memory=True)\n",
    "\n",
    "val_loader = torch.utils.data.DataLoader(\n",
    "        datasets.CIFAR10(root='./data', train=False, transform=transforms.Compose([\n",
    "            transforms.ToTensor(),\n",
    "            normalize,\n",
    "        ])),\n",
    "        batch_size=256, shuffle=False,\n",
    "        num_workers=4, pin_memory=True)\n",
    "\n",
    "\n",
    "classes = ('plane', 'car', 'bird', 'cat',\n",
    "           'deer', 'dog', 'frog', 'horse', 'ship', 'truck')\n",
    "\n",
    "# functions to show an image\n",
    "%matplotlib inline\n",
    "%config InlineBackend.figure_format = 'retina'\n",
    "def imshow(img):\n",
    "    img = img / 2 + 0.5     # unnormalize\n",
    "    npimg = img.numpy()\n",
    "    plt.imshow(np.transpose(npimg, (1, 2, 0)))\n",
    "\n",
    "\n",
    "# get some random training images\n",
    "dataiter = iter(train_loader)\n",
    "images, labels = dataiter.next()\n",
    "plt.figure(figsize=(20,10)) "
   ]
  },
  {
   "cell_type": "code",
   "execution_count": 8,
   "id": "581c96fc-4f3f-4916-9b48-8d1a696e95c0",
   "metadata": {},
   "outputs": [
    {
     "name": "stderr",
     "output_type": "stream",
     "text": [
      "01/03/2022 14:20:42 - WARNING - matplotlib.image -   Clipping input data to the valid range for imshow with RGB data ([0..1] for floats or [0..255] for integers).\n"
     ]
    },
    {
     "name": "stdout",
     "output_type": "stream",
     "text": [
      "           bird            frog           horse            bird            deer            bird           plane           plane\n"
     ]
    },
    {
     "data": {
      "image/png": "[encoded data removed]",
      "text/plain": [
       "<Figure size 432x288 with 1 Axes>"
      ]
     },
     "metadata": {
      "image/png": {
       "height": 78,
       "width": 369
      },
      "needs_background": "light"
     },
     "output_type": "display_data"
    }
   ],
   "source": [
    "# show images\n",
    "imshow(torchvision.utils.make_grid(images[0:8,:,:]))\n",
    "# print labels\n",
    "print(' '.join('%15s' % classes[labels[j]] for j in range(8)))"
   ]
  },
  {
   "cell_type": "code",
   "execution_count": 9,
   "id": "56e30a4e-2496-435e-ab70-d0f842f95e1a",
   "metadata": {},
   "outputs": [],
   "source": [
    "import time\n",
    "\n",
    "logger = logging.getLogger()\n",
    "\n",
    "def run():\n",
    "    global args, best_prec1\n",
    "    \n",
    "    # Check the save_dir exists or not\n",
    "    if not os.path.exists(args.save_dir):\n",
    "        os.makedirs(args.save_dir)\n",
    "\n",
    "    model = resnet20()\n",
    "    device = torch.device(\"cuda\" if torch.cuda.is_available() else \"cpu\")\n",
    "    best_prec1 = 0\n",
    "\n",
    "    model.cuda()\n",
    "\n",
    "\n",
    "    # define loss function (criterion) and pptimizer\n",
    "    criterion = nn.CrossEntropyLoss().cuda()\n",
    "\n",
    "    if args.half:\n",
    "        print('half precision is used.')\n",
    "        model.half()\n",
    "        criterion.half()\n",
    "\n",
    "    optimizer = torch.optim.SGD(model.parameters(), args.lr,\n",
    "                                momentum=args.momentum,\n",
    "                                weight_decay=args.weight_decay)\n",
    "\n",
    "    lr_scheduler = torch.optim.lr_scheduler.MultiStepLR(optimizer,\n",
    "                                                        milestones=[100, 150], last_epoch=args.start_epoch - 1)\n",
    "\n",
    "    if args.arch in ['resnet1202']:\n",
    "        # for resnet1202 original paper uses lr=0.01 for first 400 minibatches for warm-up\n",
    "        # then switch back. In this setup it will correspond for first epoch.\n",
    "        for param_group in optimizer.param_groups:\n",
    "            param_group['lr'] = args.lr*0.1\n",
    "\n",
    "\n",
    "    if args.evaluate:\n",
    "        print('evalution mode')\n",
    "        model.load_state_dict(torch.load(os.path.join(args.save_dir, 'model.th')))\n",
    "        best_prec1 = validate(val_loader, model, criterion)\n",
    "        return best_prec1\n",
    "\n",
    "    if args.pretrained:\n",
    "        print('evalution of pretrained model')\n",
    "        args.save_dir='pretrained_models'\n",
    "        pretrained_model= args.arch +'.th'\n",
    "        model.load_state_dict(torch.load(os.path.join(args.save_dir, pretrained_model)))\n",
    "        best_prec1 = validate(val_loader, model, criterion)\n",
    "        return best_prec1\n",
    "\n",
    "    logger.info('Training {} model'.format(args.arch))\n",
    "    for epoch in range(args.start_epoch, args.epochs):\n",
    "\n",
    "        # train for one epoch\n",
    "        logger.info('current lr {:.5e}'.format(optimizer.param_groups[0]['lr']))\n",
    "        train(train_loader, model, criterion, optimizer, epoch)\n",
    "        lr_scheduler.step()\n",
    "\n",
    "        # evaluate on validation set\n",
    "        prec1 = validate(val_loader, model, criterion)\n",
    "\n",
    "        # remember best prec@1 and save checkpoint\n",
    "        is_best = prec1 > best_prec1\n",
    "        best_prec1 = max(prec1, best_prec1)\n",
    "\n",
    "        if epoch > 0 and epoch % args.save_every == 0:\n",
    "            save_checkpoint(model.state_dict(), filename=os.path.join(args.save_dir, 'checkpoint.th'))\n",
    "        if is_best:\n",
    "            save_checkpoint(model.state_dict(), filename=os.path.join(args.save_dir, 'model.th'))\n",
    "\n",
    "    return best_prec1"
   ]
  },
  {
   "cell_type": "code",
   "execution_count": 10,
   "id": "faf80e56-88d3-4281-a84a-23b88fde9bd5",
   "metadata": {},
   "outputs": [
    {
     "name": "stderr",
     "output_type": "stream",
     "text": [
      "01/03/2022 14:20:42 - INFO - root -   Training resnet20 model\n",
      "01/03/2022 14:20:42 - INFO - root -   current lr 1.00000e-01\n"
     ]
    },
    {
     "name": "stdout",
     "output_type": "stream",
     "text": [
      "Epoch: [0][0/196]\tLoss 3.9935 (3.9935)\tPrec@1 7.031 (7.031)\n",
      "Epoch: [0][55/196]\tLoss 1.9214 (2.4277)\tPrec@1 26.953 (19.120)\n",
      "Epoch: [0][110/196]\tLoss 1.8794 (2.1298)\tPrec@1 24.219 (24.877)\n",
      "Epoch: [0][165/196]\tLoss 1.6542 (1.9782)\tPrec@1 37.109 (28.974)\n"
     ]
    },
    {
     "name": "stderr",
     "output_type": "stream",
     "text": [
      "01/03/2022 14:20:47 - INFO - root -   current lr 1.00000e-01\n"
     ]
    },
    {
     "name": "stdout",
     "output_type": "stream",
     "text": [
      "Test\t  Prec@1: 41.330 (Err: 58.670 )\n",
      "\n",
      "Epoch: [1][0/196]\tLoss 1.3977 (1.3977)\tPrec@1 46.094 (46.094)\n",
      "Epoch: [1][55/196]\tLoss 1.4236 (1.4843)\tPrec@1 48.828 (45.466)\n",
      "Epoch: [1][110/196]\tLoss 1.3154 (1.4294)\tPrec@1 53.125 (47.639)\n",
      "Epoch: [1][165/196]\tLoss 1.3203 (1.3804)\tPrec@1 54.688 (49.647)\n"
     ]
    },
    {
     "name": "stderr",
     "output_type": "stream",
     "text": [
      "01/03/2022 14:20:52 - INFO - root -   current lr 1.00000e-01\n"
     ]
    },
    {
     "name": "stdout",
     "output_type": "stream",
     "text": [
      "Test\t  Prec@1: 43.740 (Err: 56.260 )\n",
      "\n",
      "Epoch: [2][0/196]\tLoss 1.1560 (1.1560)\tPrec@1 57.031 (57.031)\n",
      "Epoch: [2][55/196]\tLoss 1.0797 (1.1450)\tPrec@1 62.500 (58.482)\n",
      "Epoch: [2][110/196]\tLoss 0.9717 (1.0970)\tPrec@1 66.797 (60.582)\n",
      "Epoch: [2][165/196]\tLoss 0.9761 (1.0683)\tPrec@1 64.844 (61.582)\n"
     ]
    },
    {
     "name": "stderr",
     "output_type": "stream",
     "text": [
      "01/03/2022 14:20:57 - INFO - root -   current lr 1.00000e-01\n"
     ]
    },
    {
     "name": "stdout",
     "output_type": "stream",
     "text": [
      "Test\t  Prec@1: 56.840 (Err: 43.160 )\n",
      "\n",
      "Epoch: [3][0/196]\tLoss 0.9830 (0.9830)\tPrec@1 64.844 (64.844)\n",
      "Epoch: [3][55/196]\tLoss 0.9148 (0.9157)\tPrec@1 67.969 (67.292)\n",
      "Epoch: [3][110/196]\tLoss 0.8638 (0.8921)\tPrec@1 69.531 (68.310)\n",
      "Epoch: [3][165/196]\tLoss 0.7871 (0.8729)\tPrec@1 72.656 (69.101)\n"
     ]
    },
    {
     "name": "stderr",
     "output_type": "stream",
     "text": [
      "01/03/2022 14:21:02 - INFO - root -   current lr 1.00000e-01\n"
     ]
    },
    {
     "name": "stdout",
     "output_type": "stream",
     "text": [
      "Test\t  Prec@1: 69.730 (Err: 30.270 )\n",
      "\n",
      "Epoch: [4][0/196]\tLoss 0.7835 (0.7835)\tPrec@1 74.609 (74.609)\n",
      "Epoch: [4][55/196]\tLoss 0.7581 (0.7658)\tPrec@1 75.781 (73.382)\n",
      "Epoch: [4][110/196]\tLoss 0.8891 (0.7590)\tPrec@1 65.625 (73.483)\n",
      "Epoch: [4][165/196]\tLoss 0.7405 (0.7494)\tPrec@1 71.875 (73.670)\n"
     ]
    },
    {
     "name": "stderr",
     "output_type": "stream",
     "text": [
      "01/03/2022 14:21:07 - INFO - root -   current lr 1.00000e-01\n"
     ]
    },
    {
     "name": "stdout",
     "output_type": "stream",
     "text": [
      "Test\t  Prec@1: 66.980 (Err: 33.020 )\n",
      "\n",
      "Epoch: [5][0/196]\tLoss 0.6857 (0.6857)\tPrec@1 76.953 (76.953)\n",
      "Epoch: [5][55/196]\tLoss 0.5723 (0.6830)\tPrec@1 79.688 (76.318)\n",
      "Epoch: [5][110/196]\tLoss 0.5929 (0.6735)\tPrec@1 78.516 (76.524)\n",
      "Epoch: [5][165/196]\tLoss 0.5186 (0.6661)\tPrec@1 82.031 (76.828)\n"
     ]
    },
    {
     "name": "stderr",
     "output_type": "stream",
     "text": [
      "01/03/2022 14:21:12 - INFO - root -   current lr 1.00000e-01\n"
     ]
    },
    {
     "name": "stdout",
     "output_type": "stream",
     "text": [
      "Test\t  Prec@1: 71.590 (Err: 28.410 )\n",
      "\n",
      "Epoch: [6][0/196]\tLoss 0.5612 (0.5612)\tPrec@1 81.250 (81.250)\n",
      "Epoch: [6][55/196]\tLoss 0.5831 (0.6278)\tPrec@1 76.172 (78.188)\n",
      "Epoch: [6][110/196]\tLoss 0.6307 (0.6337)\tPrec@1 80.469 (78.037)\n",
      "Epoch: [6][165/196]\tLoss 0.7154 (0.6234)\tPrec@1 72.656 (78.240)\n"
     ]
    },
    {
     "name": "stderr",
     "output_type": "stream",
     "text": [
      "01/03/2022 14:21:16 - INFO - root -   current lr 1.00000e-01\n"
     ]
    },
    {
     "name": "stdout",
     "output_type": "stream",
     "text": [
      "Test\t  Prec@1: 76.200 (Err: 23.800 )\n",
      "\n",
      "Epoch: [7][0/196]\tLoss 0.5131 (0.5131)\tPrec@1 82.031 (82.031)\n",
      "Epoch: [7][55/196]\tLoss 0.5267 (0.5749)\tPrec@1 82.031 (80.099)\n",
      "Epoch: [7][110/196]\tLoss 0.5000 (0.5780)\tPrec@1 82.422 (80.046)\n",
      "Epoch: [7][165/196]\tLoss 0.4733 (0.5741)\tPrec@1 84.766 (80.080)\n"
     ]
    },
    {
     "name": "stderr",
     "output_type": "stream",
     "text": [
      "01/03/2022 14:21:21 - INFO - root -   current lr 1.00000e-01\n"
     ]
    },
    {
     "name": "stdout",
     "output_type": "stream",
     "text": [
      "Test\t  Prec@1: 72.640 (Err: 27.360 )\n",
      "\n",
      "Epoch: [8][0/196]\tLoss 0.5247 (0.5247)\tPrec@1 79.688 (79.688)\n",
      "Epoch: [8][55/196]\tLoss 0.4361 (0.5373)\tPrec@1 84.766 (81.138)\n",
      "Epoch: [8][110/196]\tLoss 0.5378 (0.5425)\tPrec@1 79.297 (81.060)\n",
      "Epoch: [8][165/196]\tLoss 0.4873 (0.5426)\tPrec@1 86.719 (81.102)\n"
     ]
    },
    {
     "name": "stderr",
     "output_type": "stream",
     "text": [
      "01/03/2022 14:21:26 - INFO - root -   current lr 1.00000e-01\n"
     ]
    },
    {
     "name": "stdout",
     "output_type": "stream",
     "text": [
      "Test\t  Prec@1: 76.160 (Err: 23.840 )\n",
      "\n",
      "Epoch: [9][0/196]\tLoss 0.4030 (0.4030)\tPrec@1 86.328 (86.328)\n",
      "Epoch: [9][55/196]\tLoss 0.4572 (0.5217)\tPrec@1 86.719 (81.961)\n",
      "Epoch: [9][110/196]\tLoss 0.5265 (0.5184)\tPrec@1 82.812 (82.049)\n",
      "Epoch: [9][165/196]\tLoss 0.5648 (0.5171)\tPrec@1 80.078 (82.111)\n",
      "Test\t  Prec@1: 79.450 (Err: 20.550 )\n",
      "\n",
      "The lowest error from resnet20 model after 10 epochs is 20.550\n"
     ]
    }
   ],
   "source": [
    "run()\n",
    "print('The lowest error from {} model after {} epochs is {error:.3f}'.format(args.arch,args.epochs,error=100-best_prec1))"
   ]
  },
  {
   "cell_type": "code",
   "execution_count": null,
   "id": "971a192f-eb16-4eef-8120-08d3f30db95f",
   "metadata": {},
   "outputs": [],
   "source": []
  }
 ],
 "metadata": {
  "kernelspec": {
   "display_name": "Python 3 (ipykernel)",
   "language": "python",
   "name": "python3"
  },
  "language_info": {
   "codemirror_mode": {
    "name": "ipython",
    "version": 3
   },
   "file_extension": ".py",
   "mimetype": "text/x-python",
   "name": "python",
   "nbconvert_exporter": "python",
   "pygments_lexer": "ipython3",
   "version": "3.8.10"
  }
 },
 "nbformat": 4,
 "nbformat_minor": 5
}
