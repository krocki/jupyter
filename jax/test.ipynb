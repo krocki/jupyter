{
 "cells": [
  {
   "cell_type": "code",
   "execution_count": 1,
   "id": "54feaa19-0327-4b0f-be72-3e904983404f",
   "metadata": {},
   "outputs": [
    {
     "name": "stdout",
     "output_type": "stream",
     "text": [
      "1.025090217590332 s\n",
      "gpu\n",
      "[GpuDevice(id=0, process_index=0), GpuDevice(id=1, process_index=0)]\n",
      "0.018923044204711914 s\n"
     ]
    }
   ],
   "source": [
    "import os\n",
    "os.environ[\"CUDA_VISIBLE_DEVICES\"]=\"0,1\"\n",
    "                                                                    \n",
    "import numpy as np\n",
    "import jax.numpy as jnp\n",
    "import jax\n",
    "from jax import grad, jit, vmap\n",
    "from jax import random\n",
    "from time import time\n",
    "\n",
    "key = random.PRNGKey(0)\n",
    "x = random.normal(key, (10,))\n",
    "\n",
    "size = 2000\n",
    "\n",
    "x = random.normal(key, (size, size), dtype=jnp.float32)\n",
    "t0 = time()\n",
    "jnp.dot(x, x.T).block_until_ready()  # runs on the GPU\n",
    "print(f\"{time()-t0} s\")\n",
    "\n",
    "print(jax.default_backend())\n",
    "print(jax.devices())\n",
    "\n",
    "y = np.random.normal(size=(size, size)).astype(np.float32)\n",
    "t0 = time()\n",
    "jnp.dot(y, y.T).block_until_ready()\n",
    "print(f\"{time()-t0} s\")\n"
   ]
  },
  {
   "cell_type": "code",
   "execution_count": null,
   "id": "578e7e20-4be8-4f3b-b9af-015fb2236685",
   "metadata": {},
   "outputs": [],
   "source": []
  }
 ],
 "metadata": {
  "kernelspec": {
   "display_name": "Python 3 (ipykernel)",
   "language": "python",
   "name": "python3"
  },
  "language_info": {
   "codemirror_mode": {
    "name": "ipython",
    "version": 3
   },
   "file_extension": ".py",
   "mimetype": "text/x-python",
   "name": "python",
   "nbconvert_exporter": "python",
   "pygments_lexer": "ipython3",
   "version": "3.8.10"
  }
 },
 "nbformat": 4,
 "nbformat_minor": 5
}
