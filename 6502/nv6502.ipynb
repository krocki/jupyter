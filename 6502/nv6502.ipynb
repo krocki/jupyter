{
 "cells": [
  {
   "cell_type": "code",
   "execution_count": 4,
   "id": "6cdac03a-93db-4778-8c88-0f8202f1ba23",
   "metadata": {},
   "outputs": [
    {
     "data": {
      "image/png": "[encoded data removed]",
      "text/plain": [
       "<Figure size 432x288 with 16 Axes>"
      ]
     },
     "metadata": {
      "needs_background": "light"
     },
     "output_type": "display_data"
    }
   ],
   "source": [
    "import time\n",
    "from cffi import FFI\n",
    "from array2gif import write_gif\n",
    "import numpy as np\n",
    "import random\n",
    "import matplotlib.pyplot as plt\n",
    "\n",
    "binary      = 'sierp0.bin'\n",
    "\n",
    "with open(binary, \"rb\") as f:\n",
    "    prog = f.read()\n",
    "    \n",
    "# init nv6502\n",
    "def init(ffi):\n",
    "    _nv6502 = ffi.dlopen(\"./nv6502.so\");\n",
    "    return _nv6502\n",
    "\n",
    "\n",
    "def execute(prog):\n",
    "    \n",
    "    ffi = FFI()\n",
    "    ffi.cdef(\"\"\"\n",
    "       typedef uint8_t u8;\n",
    "       void run(int num_blocks, int threads_per_block, int steps, int iters, const char *name);\n",
    "       extern u8 mem[256][0x1000];\n",
    "    \"\"\")\n",
    "\n",
    "    blocks = 1\n",
    "    threads_per_block = 16\n",
    "    total_threads = blocks * threads_per_block\n",
    "    cycles = 5000\n",
    "    \n",
    "    plot_w = int(np.sqrt(total_threads))\n",
    "    \n",
    "    C = init(ffi)\n",
    "    C.run(blocks, threads_per_block, cycles, 1, b'sierp0.bin')\n",
    "    _scr = np.zeros((total_threads, 1024), dtype='uint8')\n",
    "    \n",
    "    for t in range(total_threads):\n",
    "        for i in range(0x200, 0x600): _scr[t][i-0x200] = C.mem[t][i]\n",
    "    _scr = _scr.reshape(total_threads,32,32)\n",
    "    \n",
    "    fig, axs = plt.subplots(plot_w, plot_w, sharex=True, sharey=True)\n",
    "    fig.subplots_adjust(hspace=0)\n",
    "    \n",
    "    for t in range(total_threads):\n",
    "        i = t//plot_w\n",
    "        j = t %plot_w\n",
    "        axs[i, j].axis(\"off\")\n",
    "        axs[i, j].set_xticks([])\n",
    "        axs[i, j].set_yticks([])\n",
    "        axs[i, j].matshow(_scr[t])\n",
    "        \n",
    "    fig.tight_layout()\n",
    "    \n",
    "execute('')\n"
   ]
  },
  {
   "cell_type": "code",
   "execution_count": 1,
   "id": "ba190080-a565-4af1-9e2d-474b2269c0ab",
   "metadata": {},
   "outputs": [],
   "source": [
    "# we just an 6502 emulator running on a GPU\n",
    "# each GPU thread was configured to run a different\n",
    "# number of iterations"
   ]
  },
  {
   "cell_type": "code",
   "execution_count": null,
   "id": "08e60c76-9e5f-40f7-982a-e6b45be129ef",
   "metadata": {},
   "outputs": [],
   "source": []
  },
  {
   "cell_type": "code",
   "execution_count": null,
   "id": "57c75e6a-701b-4e16-a34c-33b11d347973",
   "metadata": {},
   "outputs": [],
   "source": []
  }
 ],
 "metadata": {
  "kernelspec": {
   "display_name": "Python 3 (ipykernel)",
   "language": "python",
   "name": "python3"
  },
  "language_info": {
   "codemirror_mode": {
    "name": "ipython",
    "version": 3
   },
   "file_extension": ".py",
   "mimetype": "text/x-python",
   "name": "python",
   "nbconvert_exporter": "python",
   "pygments_lexer": "ipython3",
   "version": "3.8.10"
  }
 },
 "nbformat": 4,
 "nbformat_minor": 5
}
