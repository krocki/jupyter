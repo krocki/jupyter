{
 "cells": [
  {
   "cell_type": "code",
   "execution_count": 1,
   "id": "ee1e89c7-17db-4c5a-bfd1-d851d3b1f6ef",
   "metadata": {},
   "outputs": [
    {
     "name": "stdout",
     "output_type": "stream",
     "text": [
      "m=4, n=4, k=2\n",
      "A\n",
      "[[ 0.673  0.136]\n",
      " [ 0.936  0.785]\n",
      " [ 0.350  0.665]\n",
      " [ 0.637  0.591]]\n",
      "B\n",
      "[[ 0.756  0.755  0.969  0.574]\n",
      " [ 0.098  0.719  0.011  0.563]]\n",
      "C\n",
      "[[ 0.522  0.606  0.654  0.462]\n",
      " [ 0.785  1.271  0.916  0.979]\n",
      " [ 0.330  0.742  0.347  0.575]\n",
      " [ 0.540  0.906  0.624  0.698]]\n",
      "C_gpu\n",
      "[[ 0.522  0.606  0.654  0.462]\n",
      " [ 0.785  1.271  0.916  0.979]\n",
      " [ 0.330  0.742  0.347  0.575]\n",
      " [ 0.540  0.906  0.624  0.698]]\n",
      "err=0.0\n"
     ]
    }
   ],
   "source": [
    "import pycuda.autoinit\n",
    "import pycuda.gpuarray as gpuarray\n",
    "import numpy as np\n",
    "import skcuda.cublas as cublas\n",
    "\n",
    "np.set_printoptions(formatter={'float': '{: .3f}'.format})\n",
    "\n",
    "M, N, K = 4, 4, 2\n",
    "\n",
    "#A = np.array(([1, 2, 3], [4, 5, 6]), order = 'F').astype(np.float64)\n",
    "A = np.array(np.random.rand(M, K), dtype=np.float64, order='F')\n",
    "\n",
    "#B = np.array(([7, 8, 1, 5], [9, 10, 0, 9], [11, 12, 5, 5]), order = 'F').astype(np.float64)\n",
    "B = np.array(np.random.rand(K, N), dtype=np.float64, order='F')\n",
    "\n",
    "A_gpu = gpuarray.to_gpu(A)\n",
    "B_gpu = gpuarray.to_gpu(B)\n",
    "\n",
    "m, k = A_gpu.shape\n",
    "k, n = B_gpu.shape\n",
    "\n",
    "print(f'{m=}, {n=}, {k=}')\n",
    "C_gpu = gpuarray.empty((m, n), np.float64)\n",
    "\n",
    "alpha = np.float64(1.0)\n",
    "beta  = np.float64(0.0)\n",
    "\n",
    "cublas_handle = cublas.cublasCreate()\n",
    "cublas.cublasDgemm(cublas_handle, 'n', 'n', m, n, k, alpha, A_gpu.gpudata, m, B_gpu.gpudata, k, beta, C_gpu.gpudata, m)\n",
    "cublas.cublasDestroy(cublas_handle)\n",
    "\n",
    "C_gpu = C_gpu.reshape(C_gpu.shape, order = 'F')\n",
    "\n",
    "C = np.dot(A, B)\n",
    "\n",
    "err = np.linalg.norm(C_gpu.get() - C)\n",
    "print(f'A\\n{A}')\n",
    "print(f'B\\n{B}')\n",
    "print(f'C\\n{C}')\n",
    "print(f'C_gpu\\n{C_gpu}')\n",
    "print(f'{err=}')"
   ]
  },
  {
   "cell_type": "code",
   "execution_count": null,
   "id": "d0a71c87-6e28-49df-9a4f-cd0b870362ce",
   "metadata": {},
   "outputs": [],
   "source": []
  }
 ],
 "metadata": {
  "kernelspec": {
   "display_name": "Python 3 (ipykernel)",
   "language": "python",
   "name": "python3"
  },
  "language_info": {
   "codemirror_mode": {
    "name": "ipython",
    "version": 3
   },
   "file_extension": ".py",
   "mimetype": "text/x-python",
   "name": "python",
   "nbconvert_exporter": "python",
   "pygments_lexer": "ipython3",
   "version": "3.8.10"
  }
 },
 "nbformat": 4,
 "nbformat_minor": 5
}
