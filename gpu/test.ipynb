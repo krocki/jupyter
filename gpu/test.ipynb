{
 "cells": [
  {
   "cell_type": "code",
   "execution_count": 1,
   "id": "18393170",
   "metadata": {},
   "outputs": [
    {
     "name": "stdout",
     "output_type": "stream",
     "text": [
      "[[ 0.46143025  1.2424006  -0.09497519  0.63289815]\n",
      " [-0.42124137 -1.4856497   0.11987232  0.46437708]\n",
      " [-0.7157399  -0.9097515   1.3189371   0.9596154 ]\n",
      " [ 0.5612376   0.4969097   0.29132348  0.06159272]]\n"
     ]
    },
    {
     "data": {
      "text/plain": [
       "Text(0.5, 1.0, 'input')"
      ]
     },
     "execution_count": 1,
     "metadata": {},
     "output_type": "execute_result"
    },
    {
     "data": {
      "image/png": "[encoded data removed]",
      "text/plain": [
       "<Figure size 288x288 with 1 Axes>"
      ]
     },
     "metadata": {
      "needs_background": "light"
     },
     "output_type": "display_data"
    }
   ],
   "source": [
    "import numpy as np\n",
    "import matplotlib.pyplot as plt\n",
    "\n",
    "import pycuda.driver as cuda\n",
    "import pycuda.autoinit\n",
    "from pycuda.compiler import SourceModule\n",
    "\n",
    "N = 4\n",
    "A = np.random.randn(N, N).astype(np.float32)\n",
    "\n",
    "print(A)\n",
    "plt.matshow(A)\n",
    "plt.title('input')"
   ]
  },
  {
   "cell_type": "code",
   "execution_count": 2,
   "id": "7716ad65",
   "metadata": {},
   "outputs": [
    {
     "name": "stdout",
     "output_type": "stream",
     "text": [
      "[[-0.46143025 -1.2424006   0.09497519 -0.63289815]\n",
      " [ 0.42124137  1.4856497  -0.11987232 -0.46437708]\n",
      " [ 0.7157399   0.9097515  -1.3189371  -0.9596154 ]\n",
      " [-0.5612376  -0.4969097  -0.29132348 -0.06159272]]\n"
     ]
    }
   ],
   "source": [
    "dA = cuda.mem_alloc(A.nbytes)\n",
    "cuda.memcpy_htod(dA, A)\n",
    "\n",
    "mod = SourceModule(\"\"\"\n",
    "  __global__ void inv(float *a)\n",
    "  {\n",
    "    int idx = threadIdx.x + threadIdx.y*4;\n",
    "    a[idx] *= -1.0f;\n",
    "  }\n",
    "  \"\"\")\n",
    "\n",
    "func = mod.get_function(\"inv\")\n",
    "func(dA, block=(4,4,1))\n",
    "\n",
    "A0 = -A\n",
    "A1 = np.empty_like(A)\n",
    "cuda.memcpy_dtoh(A1, dA)\n",
    "print(A1)"
   ]
  },
  {
   "cell_type": "code",
   "execution_count": 3,
   "id": "044949ca",
   "metadata": {},
   "outputs": [
    {
     "name": "stdout",
     "output_type": "stream",
     "text": [
      "err=0.0\n"
     ]
    },
    {
     "data": {
      "image/png": "[encoded data removed]",
      "text/plain": [
       "<Figure size 288x288 with 1 Axes>"
      ]
     },
     "metadata": {
      "needs_background": "light"
     },
     "output_type": "display_data"
    }
   ],
   "source": [
    "plt.matshow(A1)\n",
    "plt.title('GPU output')\n",
    "err = np.linalg.norm(A1 - A0)\n",
    "print(f'{err=}')"
   ]
  },
  {
   "cell_type": "code",
   "execution_count": null,
   "id": "ec7e26bb-7d77-4fe0-bf5f-4df0c14ec729",
   "metadata": {},
   "outputs": [],
   "source": []
  }
 ],
 "metadata": {
  "kernelspec": {
   "display_name": "Python 3 (ipykernel)",
   "language": "python",
   "name": "python3"
  },
  "language_info": {
   "codemirror_mode": {
    "name": "ipython",
    "version": 3
   },
   "file_extension": ".py",
   "mimetype": "text/x-python",
   "name": "python",
   "nbconvert_exporter": "python",
   "pygments_lexer": "ipython3",
   "version": "3.8.10"
  }
 },
 "nbformat": 4,
 "nbformat_minor": 5
}
